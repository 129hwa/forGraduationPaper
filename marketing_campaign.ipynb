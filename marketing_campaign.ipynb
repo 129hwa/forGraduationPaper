{
  "cells": [
    {
      "cell_type": "markdown",
      "metadata": {
        "id": "As6noHevjyQM"
      },
      "source": [
        "데이터 불러오기, 필요한 페키지 설치 및 임포트,데이터 전처리"
      ]
    },
    {
      "cell_type": "code",
      "execution_count": 1,
      "metadata": {
        "id": "XVcN0WfnkKOg",
        "colab": {
          "base_uri": "https://localhost:8080/"
        },
        "outputId": "960a9ab0-f6cb-4ec3-edf3-e18aded1fbc7"
      },
      "outputs": [
        {
          "output_type": "stream",
          "name": "stdout",
          "text": [
            "Looking in indexes: https://pypi.org/simple, https://us-python.pkg.dev/colab-wheels/public/simple/\n",
            "Requirement already satisfied: imblearn in /usr/local/lib/python3.7/dist-packages (0.0)\n",
            "Requirement already satisfied: imbalanced-learn in /usr/local/lib/python3.7/dist-packages (from imblearn) (0.8.1)\n",
            "Requirement already satisfied: numpy>=1.13.3 in /usr/local/lib/python3.7/dist-packages (from imbalanced-learn->imblearn) (1.21.6)\n",
            "Requirement already satisfied: scikit-learn>=0.24 in /usr/local/lib/python3.7/dist-packages (from imbalanced-learn->imblearn) (1.0.2)\n",
            "Requirement already satisfied: joblib>=0.11 in /usr/local/lib/python3.7/dist-packages (from imbalanced-learn->imblearn) (1.2.0)\n",
            "Requirement already satisfied: scipy>=0.19.1 in /usr/local/lib/python3.7/dist-packages (from imbalanced-learn->imblearn) (1.7.3)\n",
            "Requirement already satisfied: threadpoolctl>=2.0.0 in /usr/local/lib/python3.7/dist-packages (from scikit-learn>=0.24->imbalanced-learn->imblearn) (3.1.0)\n"
          ]
        }
      ],
      "source": [
        "! pip install imblearn"
      ]
    },
    {
      "cell_type": "code",
      "execution_count": 2,
      "metadata": {
        "colab": {
          "base_uri": "https://localhost:8080/"
        },
        "id": "6ZQXGtozkWVc",
        "outputId": "bd43b0ce-96a1-4c33-c412-eef5193bab06"
      },
      "outputs": [
        {
          "output_type": "stream",
          "name": "stdout",
          "text": [
            "Reading package lists... Done\n",
            "Building dependency tree       \n",
            "Reading state information... Done\n",
            "pkg-config is already the newest version (0.29.1-0ubuntu2).\n",
            "graphviz is already the newest version (2.40.1-2).\n",
            "The following package was automatically installed and is no longer required:\n",
            "  libnvidia-common-460\n",
            "Use 'apt autoremove' to remove it.\n",
            "The following additional packages will be installed:\n",
            "  libgail-common libgail18 libgtk2.0-0 libgtk2.0-bin libgtk2.0-common\n",
            "  libgvc6-plugins-gtk libxdot4\n",
            "Suggested packages:\n",
            "  gvfs\n",
            "The following NEW packages will be installed:\n",
            "  libgail-common libgail18 libgraphviz-dev libgtk2.0-0 libgtk2.0-bin\n",
            "  libgtk2.0-common libgvc6-plugins-gtk libxdot4\n",
            "0 upgraded, 8 newly installed, 0 to remove and 5 not upgraded.\n",
            "Need to get 2,120 kB of archives.\n",
            "After this operation, 7,128 kB of additional disk space will be used.\n",
            "Get:1 http://archive.ubuntu.com/ubuntu bionic/main amd64 libgtk2.0-common all 2.24.32-1ubuntu1 [125 kB]\n",
            "Get:2 http://archive.ubuntu.com/ubuntu bionic/main amd64 libgtk2.0-0 amd64 2.24.32-1ubuntu1 [1,769 kB]\n",
            "Get:3 http://archive.ubuntu.com/ubuntu bionic/main amd64 libgail18 amd64 2.24.32-1ubuntu1 [14.2 kB]\n",
            "Get:4 http://archive.ubuntu.com/ubuntu bionic/main amd64 libgail-common amd64 2.24.32-1ubuntu1 [112 kB]\n",
            "Get:5 http://archive.ubuntu.com/ubuntu bionic/universe amd64 libxdot4 amd64 2.40.1-2 [15.7 kB]\n",
            "Get:6 http://archive.ubuntu.com/ubuntu bionic/universe amd64 libgvc6-plugins-gtk amd64 2.40.1-2 [18.2 kB]\n",
            "Get:7 http://archive.ubuntu.com/ubuntu bionic/universe amd64 libgraphviz-dev amd64 2.40.1-2 [57.3 kB]\n",
            "Get:8 http://archive.ubuntu.com/ubuntu bionic/main amd64 libgtk2.0-bin amd64 2.24.32-1ubuntu1 [7,536 B]\n",
            "Fetched 2,120 kB in 0s (12.1 MB/s)\n",
            "Selecting previously unselected package libgtk2.0-common.\n",
            "(Reading database ... 123942 files and directories currently installed.)\n",
            "Preparing to unpack .../0-libgtk2.0-common_2.24.32-1ubuntu1_all.deb ...\n",
            "Unpacking libgtk2.0-common (2.24.32-1ubuntu1) ...\n",
            "Selecting previously unselected package libgtk2.0-0:amd64.\n",
            "Preparing to unpack .../1-libgtk2.0-0_2.24.32-1ubuntu1_amd64.deb ...\n",
            "Unpacking libgtk2.0-0:amd64 (2.24.32-1ubuntu1) ...\n",
            "Selecting previously unselected package libgail18:amd64.\n",
            "Preparing to unpack .../2-libgail18_2.24.32-1ubuntu1_amd64.deb ...\n",
            "Unpacking libgail18:amd64 (2.24.32-1ubuntu1) ...\n",
            "Selecting previously unselected package libgail-common:amd64.\n",
            "Preparing to unpack .../3-libgail-common_2.24.32-1ubuntu1_amd64.deb ...\n",
            "Unpacking libgail-common:amd64 (2.24.32-1ubuntu1) ...\n",
            "Selecting previously unselected package libxdot4.\n",
            "Preparing to unpack .../4-libxdot4_2.40.1-2_amd64.deb ...\n",
            "Unpacking libxdot4 (2.40.1-2) ...\n",
            "Selecting previously unselected package libgvc6-plugins-gtk.\n",
            "Preparing to unpack .../5-libgvc6-plugins-gtk_2.40.1-2_amd64.deb ...\n",
            "Unpacking libgvc6-plugins-gtk (2.40.1-2) ...\n",
            "Selecting previously unselected package libgraphviz-dev.\n",
            "Preparing to unpack .../6-libgraphviz-dev_2.40.1-2_amd64.deb ...\n",
            "Unpacking libgraphviz-dev (2.40.1-2) ...\n",
            "Selecting previously unselected package libgtk2.0-bin.\n",
            "Preparing to unpack .../7-libgtk2.0-bin_2.24.32-1ubuntu1_amd64.deb ...\n",
            "Unpacking libgtk2.0-bin (2.24.32-1ubuntu1) ...\n",
            "Setting up libgtk2.0-common (2.24.32-1ubuntu1) ...\n",
            "Setting up libxdot4 (2.40.1-2) ...\n",
            "Setting up libgtk2.0-0:amd64 (2.24.32-1ubuntu1) ...\n",
            "Setting up libgail18:amd64 (2.24.32-1ubuntu1) ...\n",
            "Setting up libgail-common:amd64 (2.24.32-1ubuntu1) ...\n",
            "Setting up libgvc6-plugins-gtk (2.40.1-2) ...\n",
            "Setting up libgraphviz-dev (2.40.1-2) ...\n",
            "Setting up libgtk2.0-bin (2.24.32-1ubuntu1) ...\n",
            "Processing triggers for man-db (2.8.3-2ubuntu0.1) ...\n",
            "Processing triggers for libc-bin (2.27-3ubuntu1.6) ...\n",
            "Looking in indexes: https://pypi.org/simple, https://us-python.pkg.dev/colab-wheels/public/simple/\n",
            "Collecting pygraphviz\n",
            "  Downloading pygraphviz-1.7.zip (118 kB)\n",
            "\u001b[K     |████████████████████████████████| 118 kB 28.3 MB/s \n",
            "\u001b[?25hBuilding wheels for collected packages: pygraphviz\n",
            "  Building wheel for pygraphviz (setup.py) ... \u001b[?25l\u001b[?25hdone\n",
            "  Created wheel for pygraphviz: filename=pygraphviz-1.7-cp37-cp37m-linux_x86_64.whl size=165757 sha256=19c3c6515995444f2e4beab25fb3bcc10a4182d8dc8f3f60592276b3b81c9a27\n",
            "  Stored in directory: /root/.cache/pip/wheels/8c/bc/0c/ac35392b72556e75107ff610cb31b313e8471918a6d280e34c\n",
            "Successfully built pygraphviz\n",
            "Installing collected packages: pygraphviz\n",
            "Successfully installed pygraphviz-1.7\n"
          ]
        }
      ],
      "source": [
        "# 의사결정 나무 시각화를 위한 graphviz 설치 \n",
        "!apt-get -qq install -y graphviz && pip install -q pydot\n",
        "import pydot\n",
        "!apt-get install graphviz libgraphviz-dev pkg-config\n",
        "!pip install pygraphviz\n",
        "import pygraphviz"
      ]
    },
    {
      "cell_type": "code",
      "execution_count": 3,
      "metadata": {
        "colab": {
          "base_uri": "https://localhost:8080/"
        },
        "id": "1PsFV-n2kcC0",
        "outputId": "d9b230b8-891b-4712-d8ec-4854ac80d4c6"
      },
      "outputs": [
        {
          "output_type": "stream",
          "name": "stdout",
          "text": [
            "Looking in indexes: https://pypi.org/simple, https://us-python.pkg.dev/colab-wheels/public/simple/\n",
            "Collecting factor_analyzer\n",
            "  Downloading factor_analyzer-0.4.1.tar.gz (41 kB)\n",
            "\u001b[?25l\r\u001b[K     |███████▉                        | 10 kB 33.1 MB/s eta 0:00:01\r\u001b[K     |███████████████▊                | 20 kB 36.5 MB/s eta 0:00:01\r\u001b[K     |███████████████████████▌        | 30 kB 42.4 MB/s eta 0:00:01\r\u001b[K     |███████████████████████████████▍| 40 kB 23.4 MB/s eta 0:00:01\r\u001b[K     |████████████████████████████████| 41 kB 737 kB/s \n",
            "\u001b[?25h  Installing build dependencies ... \u001b[?25l\u001b[?25hdone\n",
            "  Getting requirements to build wheel ... \u001b[?25l\u001b[?25hdone\n",
            "    Preparing wheel metadata ... \u001b[?25l\u001b[?25hdone\n",
            "Requirement already satisfied: numpy in /usr/local/lib/python3.7/dist-packages (from factor_analyzer) (1.21.6)\n",
            "Requirement already satisfied: scipy in /usr/local/lib/python3.7/dist-packages (from factor_analyzer) (1.7.3)\n",
            "Requirement already satisfied: scikit-learn in /usr/local/lib/python3.7/dist-packages (from factor_analyzer) (1.0.2)\n",
            "Requirement already satisfied: pandas in /usr/local/lib/python3.7/dist-packages (from factor_analyzer) (1.3.5)\n",
            "Collecting pre-commit\n",
            "  Downloading pre_commit-2.20.0-py2.py3-none-any.whl (199 kB)\n",
            "\u001b[K     |████████████████████████████████| 199 kB 50.1 MB/s \n",
            "\u001b[?25hRequirement already satisfied: pytz>=2017.3 in /usr/local/lib/python3.7/dist-packages (from pandas->factor_analyzer) (2022.6)\n",
            "Requirement already satisfied: python-dateutil>=2.7.3 in /usr/local/lib/python3.7/dist-packages (from pandas->factor_analyzer) (2.8.2)\n",
            "Requirement already satisfied: six>=1.5 in /usr/local/lib/python3.7/dist-packages (from python-dateutil>=2.7.3->pandas->factor_analyzer) (1.15.0)\n",
            "Requirement already satisfied: importlib-metadata in /usr/local/lib/python3.7/dist-packages (from pre-commit->factor_analyzer) (4.13.0)\n",
            "Collecting identify>=1.0.0\n",
            "  Downloading identify-2.5.8-py2.py3-none-any.whl (98 kB)\n",
            "\u001b[K     |████████████████████████████████| 98 kB 4.6 MB/s \n",
            "\u001b[?25hRequirement already satisfied: toml in /usr/local/lib/python3.7/dist-packages (from pre-commit->factor_analyzer) (0.10.2)\n",
            "Requirement already satisfied: pyyaml>=5.1 in /usr/local/lib/python3.7/dist-packages (from pre-commit->factor_analyzer) (6.0)\n",
            "Collecting nodeenv>=0.11.1\n",
            "  Downloading nodeenv-1.7.0-py2.py3-none-any.whl (21 kB)\n",
            "Collecting virtualenv>=20.0.8\n",
            "  Downloading virtualenv-20.16.7-py3-none-any.whl (8.8 MB)\n",
            "\u001b[K     |████████████████████████████████| 8.8 MB 55.3 MB/s \n",
            "\u001b[?25hCollecting cfgv>=2.0.0\n",
            "  Downloading cfgv-3.3.1-py2.py3-none-any.whl (7.3 kB)\n",
            "Requirement already satisfied: setuptools in /usr/local/lib/python3.7/dist-packages (from nodeenv>=0.11.1->pre-commit->factor_analyzer) (57.4.0)\n",
            "Collecting platformdirs<3,>=2.4\n",
            "  Downloading platformdirs-2.5.4-py3-none-any.whl (14 kB)\n",
            "Collecting distlib<1,>=0.3.6\n",
            "  Downloading distlib-0.3.6-py2.py3-none-any.whl (468 kB)\n",
            "\u001b[K     |████████████████████████████████| 468 kB 65.0 MB/s \n",
            "\u001b[?25hRequirement already satisfied: filelock<4,>=3.4.1 in /usr/local/lib/python3.7/dist-packages (from virtualenv>=20.0.8->pre-commit->factor_analyzer) (3.8.0)\n",
            "Requirement already satisfied: typing-extensions>=3.6.4 in /usr/local/lib/python3.7/dist-packages (from importlib-metadata->pre-commit->factor_analyzer) (4.1.1)\n",
            "Requirement already satisfied: zipp>=0.5 in /usr/local/lib/python3.7/dist-packages (from importlib-metadata->pre-commit->factor_analyzer) (3.10.0)\n",
            "Requirement already satisfied: threadpoolctl>=2.0.0 in /usr/local/lib/python3.7/dist-packages (from scikit-learn->factor_analyzer) (3.1.0)\n",
            "Requirement already satisfied: joblib>=0.11 in /usr/local/lib/python3.7/dist-packages (from scikit-learn->factor_analyzer) (1.2.0)\n",
            "Building wheels for collected packages: factor-analyzer\n",
            "  Building wheel for factor-analyzer (PEP 517) ... \u001b[?25l\u001b[?25hdone\n",
            "  Created wheel for factor-analyzer: filename=factor_analyzer-0.4.1-py2.py3-none-any.whl size=42033 sha256=4ecb1b3e7bdecc26a13dbcf351e84d6c28fe00427993940b864238cffbcd6d3f\n",
            "  Stored in directory: /root/.cache/pip/wheels/ed/90/48/766e09628cc5bbcf57c2eb063972c1e956a03422dd6d84fde2\n",
            "Successfully built factor-analyzer\n",
            "Installing collected packages: platformdirs, distlib, virtualenv, nodeenv, identify, cfgv, pre-commit, factor-analyzer\n",
            "Successfully installed cfgv-3.3.1 distlib-0.3.6 factor-analyzer-0.4.1 identify-2.5.8 nodeenv-1.7.0 platformdirs-2.5.4 pre-commit-2.20.0 virtualenv-20.16.7\n"
          ]
        }
      ],
      "source": [
        "!pip install factor_analyzer"
      ]
    },
    {
      "cell_type": "code",
      "execution_count": 4,
      "metadata": {
        "colab": {
          "base_uri": "https://localhost:8080/"
        },
        "id": "PJFxjMgq6aee",
        "outputId": "8b2bf357-b8d4-475e-f796-5be92906d722"
      },
      "outputs": [
        {
          "output_type": "stream",
          "name": "stdout",
          "text": [
            "Looking in indexes: https://pypi.org/simple, https://us-python.pkg.dev/colab-wheels/public/simple/\n",
            "Requirement already satisfied: xgboost in /usr/local/lib/python3.7/dist-packages (0.90)\n",
            "Requirement already satisfied: scipy in /usr/local/lib/python3.7/dist-packages (from xgboost) (1.7.3)\n",
            "Requirement already satisfied: numpy in /usr/local/lib/python3.7/dist-packages (from xgboost) (1.21.6)\n"
          ]
        }
      ],
      "source": [
        " !pip install xgboost"
      ]
    },
    {
      "cell_type": "code",
      "execution_count": 5,
      "metadata": {
        "colab": {
          "base_uri": "https://localhost:8080/"
        },
        "id": "rHxKX3_xaqiW",
        "outputId": "103837ee-0d0e-4ac5-a352-e27a26d7ea82"
      },
      "outputs": [
        {
          "output_type": "stream",
          "name": "stdout",
          "text": [
            "Looking in indexes: https://pypi.org/simple, https://us-python.pkg.dev/colab-wheels/public/simple/\n",
            "Collecting pyclustering\n",
            "  Downloading pyclustering-0.10.1.2.tar.gz (2.6 MB)\n",
            "\u001b[K     |████████████████████████████████| 2.6 MB 26.9 MB/s \n",
            "\u001b[?25hRequirement already satisfied: scipy>=1.1.0 in /usr/local/lib/python3.7/dist-packages (from pyclustering) (1.7.3)\n",
            "Requirement already satisfied: matplotlib>=3.0.0 in /usr/local/lib/python3.7/dist-packages (from pyclustering) (3.2.2)\n",
            "Requirement already satisfied: numpy>=1.15.2 in /usr/local/lib/python3.7/dist-packages (from pyclustering) (1.21.6)\n",
            "Requirement already satisfied: Pillow>=5.2.0 in /usr/local/lib/python3.7/dist-packages (from pyclustering) (7.1.2)\n",
            "Requirement already satisfied: python-dateutil>=2.1 in /usr/local/lib/python3.7/dist-packages (from matplotlib>=3.0.0->pyclustering) (2.8.2)\n",
            "Requirement already satisfied: cycler>=0.10 in /usr/local/lib/python3.7/dist-packages (from matplotlib>=3.0.0->pyclustering) (0.11.0)\n",
            "Requirement already satisfied: kiwisolver>=1.0.1 in /usr/local/lib/python3.7/dist-packages (from matplotlib>=3.0.0->pyclustering) (1.4.4)\n",
            "Requirement already satisfied: pyparsing!=2.0.4,!=2.1.2,!=2.1.6,>=2.0.1 in /usr/local/lib/python3.7/dist-packages (from matplotlib>=3.0.0->pyclustering) (3.0.9)\n",
            "Requirement already satisfied: typing-extensions in /usr/local/lib/python3.7/dist-packages (from kiwisolver>=1.0.1->matplotlib>=3.0.0->pyclustering) (4.1.1)\n",
            "Requirement already satisfied: six>=1.5 in /usr/local/lib/python3.7/dist-packages (from python-dateutil>=2.1->matplotlib>=3.0.0->pyclustering) (1.15.0)\n",
            "Building wheels for collected packages: pyclustering\n",
            "  Building wheel for pyclustering (setup.py) ... \u001b[?25l\u001b[?25hdone\n",
            "  Created wheel for pyclustering: filename=pyclustering-0.10.1.2-py3-none-any.whl size=2395122 sha256=b10841ce10b2778179adebc7a8458233d2db865f97f680471698774da56d21c4\n",
            "  Stored in directory: /root/.cache/pip/wheels/ea/87/6b/1e0568b5ba9dc6518a25338bae90bd8392f35206bb90bb10f1\n",
            "Successfully built pyclustering\n",
            "Installing collected packages: pyclustering\n",
            "Successfully installed pyclustering-0.10.1.2\n"
          ]
        }
      ],
      "source": [
        "!pip3 install pyclustering"
      ]
    },
    {
      "cell_type": "code",
      "execution_count": 6,
      "metadata": {
        "id": "p4Arx8Nck3lR"
      },
      "outputs": [],
      "source": [
        "import pandas as pd\n",
        "import datetime\n",
        "import math\n",
        "import numpy as np\n",
        "import matplotlib.pyplot as plt\n",
        "from sklearn.cluster import KMeans\n",
        "import seaborn as sns\n",
        "%matplotlib inline\n",
        "from factor_analyzer import FactorAnalyzer\n",
        "from factor_analyzer.factor_analyzer import calculate_bartlett_sphericity\n",
        "from factor_analyzer.factor_analyzer import calculate_kmo\n",
        "from sklearn.preprocessing import StandardScaler\n",
        "from sklearn.decomposition import PCA\n",
        "from sklearn.metrics import silhouette_score, silhouette_samples\n",
        "from sklearn.cluster import MeanShift,estimate_bandwidth\n",
        "from imblearn.over_sampling import SMOTE\n",
        "from imblearn.combine import SMOTETomek\n",
        "from imblearn.under_sampling import TomekLinks\n",
        "from imblearn.over_sampling import ADASYN\n",
        "from sklearn import tree\n",
        "from sklearn.tree import export_graphviz\n",
        "import graphviz\n",
        "from sklearn.model_selection import train_test_split\n",
        "from sklearn.tree import DecisionTreeClassifier\n",
        "from sklearn.metrics import accuracy_score\n",
        "from sklearn.linear_model import LogisticRegression\n",
        "from sklearn.metrics import confusion_matrix\n",
        "from sklearn.metrics import accuracy_score, roc_auc_score, roc_curve\n",
        "import statsmodels.api as sm\n",
        "from sklearn.model_selection import cross_val_score\n",
        "from sklearn.metrics import confusion_matrix, classification_report\n",
        "from sklearn.cluster import SpectralClustering, AgglomerativeClustering\n",
        "from sklearn.mixture import GaussianMixture"
      ]
    },
    {
      "cell_type": "code",
      "execution_count": 52,
      "metadata": {
        "id": "Mg97f3KljsSq",
        "colab": {
          "base_uri": "https://localhost:8080/",
          "height": 300
        },
        "outputId": "6c68142f-aafc-4a89-cfab-a3594b492dba"
      },
      "outputs": [
        {
          "output_type": "execute_result",
          "data": {
            "text/plain": [
              "   Year_Birth   Income  Kidhome  Teenhome  Recency  MntWines  MntFruits  \\\n",
              "0        1957  58138.0        0         0       58       635         88   \n",
              "1        1954  46344.0        1         1       38        11          1   \n",
              "2        1965  71613.0        0         0       26       426         49   \n",
              "3        1984  26646.0        1         0       26        11          4   \n",
              "4        1981  58293.0        1         0       94       173         43   \n",
              "\n",
              "   MntMeatProducts  MntFishProducts  MntSweetProducts  ...  NumWebVisitsMonth  \\\n",
              "0              546              172                88  ...                  7   \n",
              "1                6                2                 1  ...                  5   \n",
              "2              127              111                21  ...                  4   \n",
              "3               20               10                 3  ...                  6   \n",
              "4              118               46                27  ...                  5   \n",
              "\n",
              "   AcceptedCmp3  AcceptedCmp4  AcceptedCmp5  AcceptedCmp1  AcceptedCmp2  \\\n",
              "0             0             0             0             0             0   \n",
              "1             0             0             0             0             0   \n",
              "2             0             0             0             0             0   \n",
              "3             0             0             0             0             0   \n",
              "4             0             0             0             0             0   \n",
              "\n",
              "   Complain  Z_CostContact  Z_Revenue  Response  \n",
              "0         0              3         11         1  \n",
              "1         0              3         11         0  \n",
              "2         0              3         11         0  \n",
              "3         0              3         11         0  \n",
              "4         0              3         11         0  \n",
              "\n",
              "[5 rows x 25 columns]"
            ],
            "text/html": [
              "\n",
              "  <div id=\"df-5123d39a-c7d4-4d0e-8a91-f70f45cc6a97\">\n",
              "    <div class=\"colab-df-container\">\n",
              "      <div>\n",
              "<style scoped>\n",
              "    .dataframe tbody tr th:only-of-type {\n",
              "        vertical-align: middle;\n",
              "    }\n",
              "\n",
              "    .dataframe tbody tr th {\n",
              "        vertical-align: top;\n",
              "    }\n",
              "\n",
              "    .dataframe thead th {\n",
              "        text-align: right;\n",
              "    }\n",
              "</style>\n",
              "<table border=\"1\" class=\"dataframe\">\n",
              "  <thead>\n",
              "    <tr style=\"text-align: right;\">\n",
              "      <th></th>\n",
              "      <th>Year_Birth</th>\n",
              "      <th>Income</th>\n",
              "      <th>Kidhome</th>\n",
              "      <th>Teenhome</th>\n",
              "      <th>Recency</th>\n",
              "      <th>MntWines</th>\n",
              "      <th>MntFruits</th>\n",
              "      <th>MntMeatProducts</th>\n",
              "      <th>MntFishProducts</th>\n",
              "      <th>MntSweetProducts</th>\n",
              "      <th>...</th>\n",
              "      <th>NumWebVisitsMonth</th>\n",
              "      <th>AcceptedCmp3</th>\n",
              "      <th>AcceptedCmp4</th>\n",
              "      <th>AcceptedCmp5</th>\n",
              "      <th>AcceptedCmp1</th>\n",
              "      <th>AcceptedCmp2</th>\n",
              "      <th>Complain</th>\n",
              "      <th>Z_CostContact</th>\n",
              "      <th>Z_Revenue</th>\n",
              "      <th>Response</th>\n",
              "    </tr>\n",
              "  </thead>\n",
              "  <tbody>\n",
              "    <tr>\n",
              "      <th>0</th>\n",
              "      <td>1957</td>\n",
              "      <td>58138.0</td>\n",
              "      <td>0</td>\n",
              "      <td>0</td>\n",
              "      <td>58</td>\n",
              "      <td>635</td>\n",
              "      <td>88</td>\n",
              "      <td>546</td>\n",
              "      <td>172</td>\n",
              "      <td>88</td>\n",
              "      <td>...</td>\n",
              "      <td>7</td>\n",
              "      <td>0</td>\n",
              "      <td>0</td>\n",
              "      <td>0</td>\n",
              "      <td>0</td>\n",
              "      <td>0</td>\n",
              "      <td>0</td>\n",
              "      <td>3</td>\n",
              "      <td>11</td>\n",
              "      <td>1</td>\n",
              "    </tr>\n",
              "    <tr>\n",
              "      <th>1</th>\n",
              "      <td>1954</td>\n",
              "      <td>46344.0</td>\n",
              "      <td>1</td>\n",
              "      <td>1</td>\n",
              "      <td>38</td>\n",
              "      <td>11</td>\n",
              "      <td>1</td>\n",
              "      <td>6</td>\n",
              "      <td>2</td>\n",
              "      <td>1</td>\n",
              "      <td>...</td>\n",
              "      <td>5</td>\n",
              "      <td>0</td>\n",
              "      <td>0</td>\n",
              "      <td>0</td>\n",
              "      <td>0</td>\n",
              "      <td>0</td>\n",
              "      <td>0</td>\n",
              "      <td>3</td>\n",
              "      <td>11</td>\n",
              "      <td>0</td>\n",
              "    </tr>\n",
              "    <tr>\n",
              "      <th>2</th>\n",
              "      <td>1965</td>\n",
              "      <td>71613.0</td>\n",
              "      <td>0</td>\n",
              "      <td>0</td>\n",
              "      <td>26</td>\n",
              "      <td>426</td>\n",
              "      <td>49</td>\n",
              "      <td>127</td>\n",
              "      <td>111</td>\n",
              "      <td>21</td>\n",
              "      <td>...</td>\n",
              "      <td>4</td>\n",
              "      <td>0</td>\n",
              "      <td>0</td>\n",
              "      <td>0</td>\n",
              "      <td>0</td>\n",
              "      <td>0</td>\n",
              "      <td>0</td>\n",
              "      <td>3</td>\n",
              "      <td>11</td>\n",
              "      <td>0</td>\n",
              "    </tr>\n",
              "    <tr>\n",
              "      <th>3</th>\n",
              "      <td>1984</td>\n",
              "      <td>26646.0</td>\n",
              "      <td>1</td>\n",
              "      <td>0</td>\n",
              "      <td>26</td>\n",
              "      <td>11</td>\n",
              "      <td>4</td>\n",
              "      <td>20</td>\n",
              "      <td>10</td>\n",
              "      <td>3</td>\n",
              "      <td>...</td>\n",
              "      <td>6</td>\n",
              "      <td>0</td>\n",
              "      <td>0</td>\n",
              "      <td>0</td>\n",
              "      <td>0</td>\n",
              "      <td>0</td>\n",
              "      <td>0</td>\n",
              "      <td>3</td>\n",
              "      <td>11</td>\n",
              "      <td>0</td>\n",
              "    </tr>\n",
              "    <tr>\n",
              "      <th>4</th>\n",
              "      <td>1981</td>\n",
              "      <td>58293.0</td>\n",
              "      <td>1</td>\n",
              "      <td>0</td>\n",
              "      <td>94</td>\n",
              "      <td>173</td>\n",
              "      <td>43</td>\n",
              "      <td>118</td>\n",
              "      <td>46</td>\n",
              "      <td>27</td>\n",
              "      <td>...</td>\n",
              "      <td>5</td>\n",
              "      <td>0</td>\n",
              "      <td>0</td>\n",
              "      <td>0</td>\n",
              "      <td>0</td>\n",
              "      <td>0</td>\n",
              "      <td>0</td>\n",
              "      <td>3</td>\n",
              "      <td>11</td>\n",
              "      <td>0</td>\n",
              "    </tr>\n",
              "  </tbody>\n",
              "</table>\n",
              "<p>5 rows × 25 columns</p>\n",
              "</div>\n",
              "      <button class=\"colab-df-convert\" onclick=\"convertToInteractive('df-5123d39a-c7d4-4d0e-8a91-f70f45cc6a97')\"\n",
              "              title=\"Convert this dataframe to an interactive table.\"\n",
              "              style=\"display:none;\">\n",
              "        \n",
              "  <svg xmlns=\"http://www.w3.org/2000/svg\" height=\"24px\"viewBox=\"0 0 24 24\"\n",
              "       width=\"24px\">\n",
              "    <path d=\"M0 0h24v24H0V0z\" fill=\"none\"/>\n",
              "    <path d=\"M18.56 5.44l.94 2.06.94-2.06 2.06-.94-2.06-.94-.94-2.06-.94 2.06-2.06.94zm-11 1L8.5 8.5l.94-2.06 2.06-.94-2.06-.94L8.5 2.5l-.94 2.06-2.06.94zm10 10l.94 2.06.94-2.06 2.06-.94-2.06-.94-.94-2.06-.94 2.06-2.06.94z\"/><path d=\"M17.41 7.96l-1.37-1.37c-.4-.4-.92-.59-1.43-.59-.52 0-1.04.2-1.43.59L10.3 9.45l-7.72 7.72c-.78.78-.78 2.05 0 2.83L4 21.41c.39.39.9.59 1.41.59.51 0 1.02-.2 1.41-.59l7.78-7.78 2.81-2.81c.8-.78.8-2.07 0-2.86zM5.41 20L4 18.59l7.72-7.72 1.47 1.35L5.41 20z\"/>\n",
              "  </svg>\n",
              "      </button>\n",
              "      \n",
              "  <style>\n",
              "    .colab-df-container {\n",
              "      display:flex;\n",
              "      flex-wrap:wrap;\n",
              "      gap: 12px;\n",
              "    }\n",
              "\n",
              "    .colab-df-convert {\n",
              "      background-color: #E8F0FE;\n",
              "      border: none;\n",
              "      border-radius: 50%;\n",
              "      cursor: pointer;\n",
              "      display: none;\n",
              "      fill: #1967D2;\n",
              "      height: 32px;\n",
              "      padding: 0 0 0 0;\n",
              "      width: 32px;\n",
              "    }\n",
              "\n",
              "    .colab-df-convert:hover {\n",
              "      background-color: #E2EBFA;\n",
              "      box-shadow: 0px 1px 2px rgba(60, 64, 67, 0.3), 0px 1px 3px 1px rgba(60, 64, 67, 0.15);\n",
              "      fill: #174EA6;\n",
              "    }\n",
              "\n",
              "    [theme=dark] .colab-df-convert {\n",
              "      background-color: #3B4455;\n",
              "      fill: #D2E3FC;\n",
              "    }\n",
              "\n",
              "    [theme=dark] .colab-df-convert:hover {\n",
              "      background-color: #434B5C;\n",
              "      box-shadow: 0px 1px 3px 1px rgba(0, 0, 0, 0.15);\n",
              "      filter: drop-shadow(0px 1px 2px rgba(0, 0, 0, 0.3));\n",
              "      fill: #FFFFFF;\n",
              "    }\n",
              "  </style>\n",
              "\n",
              "      <script>\n",
              "        const buttonEl =\n",
              "          document.querySelector('#df-5123d39a-c7d4-4d0e-8a91-f70f45cc6a97 button.colab-df-convert');\n",
              "        buttonEl.style.display =\n",
              "          google.colab.kernel.accessAllowed ? 'block' : 'none';\n",
              "\n",
              "        async function convertToInteractive(key) {\n",
              "          const element = document.querySelector('#df-5123d39a-c7d4-4d0e-8a91-f70f45cc6a97');\n",
              "          const dataTable =\n",
              "            await google.colab.kernel.invokeFunction('convertToInteractive',\n",
              "                                                     [key], {});\n",
              "          if (!dataTable) return;\n",
              "\n",
              "          const docLinkHtml = 'Like what you see? Visit the ' +\n",
              "            '<a target=\"_blank\" href=https://colab.research.google.com/notebooks/data_table.ipynb>data table notebook</a>'\n",
              "            + ' to learn more about interactive tables.';\n",
              "          element.innerHTML = '';\n",
              "          dataTable['output_type'] = 'display_data';\n",
              "          await google.colab.output.renderOutput(dataTable, element);\n",
              "          const docLink = document.createElement('div');\n",
              "          docLink.innerHTML = docLinkHtml;\n",
              "          element.appendChild(docLink);\n",
              "        }\n",
              "      </script>\n",
              "    </div>\n",
              "  </div>\n",
              "  "
            ]
          },
          "metadata": {},
          "execution_count": 52
        }
      ],
      "source": [
        "market_df = pd.read_csv('/content/marketing_campaign.csv',sep = '\\t')\n",
        "new_data = market_df.drop(['Education', 'Marital_Status','Dt_Customer','ID'],axis = 1)\n",
        "new_data = new_data.dropna()\n",
        "new_data.head()"
      ]
    },
    {
      "cell_type": "code",
      "execution_count": 53,
      "metadata": {
        "id": "e-lqYXXpplhG"
      },
      "outputs": [],
      "source": [
        "# 출생 데이터는 나이로 변환\n",
        "def func3(x) :\n",
        "    return 2023 - x\n",
        "new_data['age'] = new_data['Year_Birth'].apply(lambda x : func3(x))\n",
        "new_data = new_data.drop('Year_Birth',axis=1)\n",
        "new_data = new_data[new_data['age']<100]"
      ]
    },
    {
      "cell_type": "code",
      "execution_count": 54,
      "metadata": {
        "id": "k-sFAiatpouZ"
      },
      "outputs": [],
      "source": [
        "new_data = new_data[new_data['Income'] <= 100000]"
      ]
    },
    {
      "cell_type": "code",
      "execution_count": 55,
      "metadata": {
        "id": "VqDZ-qvmpsFF"
      },
      "outputs": [],
      "source": [
        "# 프로모션 참여횟수로 변환\n",
        "new_data['promotion_num'] = new_data['AcceptedCmp1']+new_data['AcceptedCmp2']+new_data['AcceptedCmp3']+new_data['AcceptedCmp4']+new_data['AcceptedCmp5']+new_data['Response']\n",
        "new_data=new_data.drop(['AcceptedCmp1','AcceptedCmp2','AcceptedCmp3','AcceptedCmp4','AcceptedCmp5','Response'],axis=1)"
      ]
    },
    {
      "cell_type": "code",
      "execution_count": 56,
      "metadata": {
        "id": "WY5xCm7Dpy-_"
      },
      "outputs": [],
      "source": [
        "new_data = new_data.drop(['Z_CostContact', 'Z_Revenue'],axis = 1)"
      ]
    },
    {
      "cell_type": "code",
      "execution_count": 61,
      "metadata": {
        "id": "WFt89pXLp4oO"
      },
      "outputs": [],
      "source": [
        "def remove_out_mine(df,remove_col):\n",
        "  dff = df.copy()\n",
        "  q1 = remove_col.quantile(0.25)\n",
        "  q3 = remove_col.quantile(0.75)\n",
        "  iqr = q3 - q1\n",
        "  name = remove_col.name\n",
        "  dff = dff[(dff[name] <= (q3 +1.5*iqr)) & (dff[name]>=(q1 - 1.5*iqr))]\n",
        "  dff = dff.reset_index(drop = True)\n",
        "  return dff"
      ]
    },
    {
      "cell_type": "code",
      "execution_count": 57,
      "metadata": {
        "id": "Ty8no6n3p97n"
      },
      "outputs": [],
      "source": [
        "remove_outlier_data = new_data.copy()\n",
        "for i in range(18):\n",
        "  if((remove_outlier_data.columns[i] == 'Marital_Status_num') | (remove_outlier_data.columns[i] == 'Education_num') | (remove_outlier_data.columns[i] == 'Complain') | (remove_outlier_data.columns[i] == 'promotion_num')) :\n",
        "    continue\n",
        "  remove_outlier_data = remove_out_mine(remove_outlier_data,remove_outlier_data[remove_outlier_data.columns[i]])"
      ]
    },
    {
      "cell_type": "code",
      "execution_count": 58,
      "metadata": {
        "id": "4gjoithQdqjb"
      },
      "outputs": [],
      "source": [
        "# 데이터 정리\n",
        "dr_df = remove_outlier_data.copy()\n",
        "dr_df['Mnt'] = dr_df[\"MntWines\"] + dr_df[\"MntFruits\"] +dr_df[\"MntMeatProducts\"] + dr_df[\"MntFishProducts\"] + dr_df[\"MntSweetProducts\"] + dr_df[\"MntGoldProds\"]\n",
        "dr_df[\"Purchases\"] = dr_df[\"NumDealsPurchases\"] +dr_df[\"NumWebPurchases\"] +dr_df[\"NumCatalogPurchases\"] +dr_df[\"NumStorePurchases\"]\n",
        "dr_df[\"Child\"] = dr_df[\"Kidhome\"] + dr_df[\"Teenhome\"]\n",
        "dr_df = dr_df.drop([\"MntWines\",\"MntFruits\",\"MntMeatProducts\",\"MntFishProducts\",\"MntSweetProducts\",\"MntGoldProds\",\"NumDealsPurchases\",\"NumWebPurchases\",\"NumCatalogPurchases\",\"NumStorePurchases\",\"Kidhome\",\"Teenhome\",\"Complain\",\"NumWebVisitsMonth\",\"promotion_num\"], axis =1)"
      ]
    },
    {
      "cell_type": "code",
      "execution_count": 15,
      "metadata": {
        "colab": {
          "base_uri": "https://localhost:8080/",
          "height": 206
        },
        "id": "KbNzaFhABZly",
        "outputId": "ed82d4be-8357-4227-a3cf-77ece27c8a80"
      },
      "outputs": [
        {
          "output_type": "execute_result",
          "data": {
            "text/plain": [
              "    Income  Recency  age  Mnt  Purchases  Child\n",
              "0  46344.0       38   69   27          6      2\n",
              "1  26646.0       26   39   53          8      1\n",
              "2  33454.0       32   38  169         10      1\n",
              "3  30351.0       19   49   46          6      1\n",
              "4   7500.0       59   47   61          6      0"
            ],
            "text/html": [
              "\n",
              "  <div id=\"df-e2f2c838-24f9-497d-bac3-a2073e9483ba\">\n",
              "    <div class=\"colab-df-container\">\n",
              "      <div>\n",
              "<style scoped>\n",
              "    .dataframe tbody tr th:only-of-type {\n",
              "        vertical-align: middle;\n",
              "    }\n",
              "\n",
              "    .dataframe tbody tr th {\n",
              "        vertical-align: top;\n",
              "    }\n",
              "\n",
              "    .dataframe thead th {\n",
              "        text-align: right;\n",
              "    }\n",
              "</style>\n",
              "<table border=\"1\" class=\"dataframe\">\n",
              "  <thead>\n",
              "    <tr style=\"text-align: right;\">\n",
              "      <th></th>\n",
              "      <th>Income</th>\n",
              "      <th>Recency</th>\n",
              "      <th>age</th>\n",
              "      <th>Mnt</th>\n",
              "      <th>Purchases</th>\n",
              "      <th>Child</th>\n",
              "    </tr>\n",
              "  </thead>\n",
              "  <tbody>\n",
              "    <tr>\n",
              "      <th>0</th>\n",
              "      <td>46344.0</td>\n",
              "      <td>38</td>\n",
              "      <td>69</td>\n",
              "      <td>27</td>\n",
              "      <td>6</td>\n",
              "      <td>2</td>\n",
              "    </tr>\n",
              "    <tr>\n",
              "      <th>1</th>\n",
              "      <td>26646.0</td>\n",
              "      <td>26</td>\n",
              "      <td>39</td>\n",
              "      <td>53</td>\n",
              "      <td>8</td>\n",
              "      <td>1</td>\n",
              "    </tr>\n",
              "    <tr>\n",
              "      <th>2</th>\n",
              "      <td>33454.0</td>\n",
              "      <td>32</td>\n",
              "      <td>38</td>\n",
              "      <td>169</td>\n",
              "      <td>10</td>\n",
              "      <td>1</td>\n",
              "    </tr>\n",
              "    <tr>\n",
              "      <th>3</th>\n",
              "      <td>30351.0</td>\n",
              "      <td>19</td>\n",
              "      <td>49</td>\n",
              "      <td>46</td>\n",
              "      <td>6</td>\n",
              "      <td>1</td>\n",
              "    </tr>\n",
              "    <tr>\n",
              "      <th>4</th>\n",
              "      <td>7500.0</td>\n",
              "      <td>59</td>\n",
              "      <td>47</td>\n",
              "      <td>61</td>\n",
              "      <td>6</td>\n",
              "      <td>0</td>\n",
              "    </tr>\n",
              "  </tbody>\n",
              "</table>\n",
              "</div>\n",
              "      <button class=\"colab-df-convert\" onclick=\"convertToInteractive('df-e2f2c838-24f9-497d-bac3-a2073e9483ba')\"\n",
              "              title=\"Convert this dataframe to an interactive table.\"\n",
              "              style=\"display:none;\">\n",
              "        \n",
              "  <svg xmlns=\"http://www.w3.org/2000/svg\" height=\"24px\"viewBox=\"0 0 24 24\"\n",
              "       width=\"24px\">\n",
              "    <path d=\"M0 0h24v24H0V0z\" fill=\"none\"/>\n",
              "    <path d=\"M18.56 5.44l.94 2.06.94-2.06 2.06-.94-2.06-.94-.94-2.06-.94 2.06-2.06.94zm-11 1L8.5 8.5l.94-2.06 2.06-.94-2.06-.94L8.5 2.5l-.94 2.06-2.06.94zm10 10l.94 2.06.94-2.06 2.06-.94-2.06-.94-.94-2.06-.94 2.06-2.06.94z\"/><path d=\"M17.41 7.96l-1.37-1.37c-.4-.4-.92-.59-1.43-.59-.52 0-1.04.2-1.43.59L10.3 9.45l-7.72 7.72c-.78.78-.78 2.05 0 2.83L4 21.41c.39.39.9.59 1.41.59.51 0 1.02-.2 1.41-.59l7.78-7.78 2.81-2.81c.8-.78.8-2.07 0-2.86zM5.41 20L4 18.59l7.72-7.72 1.47 1.35L5.41 20z\"/>\n",
              "  </svg>\n",
              "      </button>\n",
              "      \n",
              "  <style>\n",
              "    .colab-df-container {\n",
              "      display:flex;\n",
              "      flex-wrap:wrap;\n",
              "      gap: 12px;\n",
              "    }\n",
              "\n",
              "    .colab-df-convert {\n",
              "      background-color: #E8F0FE;\n",
              "      border: none;\n",
              "      border-radius: 50%;\n",
              "      cursor: pointer;\n",
              "      display: none;\n",
              "      fill: #1967D2;\n",
              "      height: 32px;\n",
              "      padding: 0 0 0 0;\n",
              "      width: 32px;\n",
              "    }\n",
              "\n",
              "    .colab-df-convert:hover {\n",
              "      background-color: #E2EBFA;\n",
              "      box-shadow: 0px 1px 2px rgba(60, 64, 67, 0.3), 0px 1px 3px 1px rgba(60, 64, 67, 0.15);\n",
              "      fill: #174EA6;\n",
              "    }\n",
              "\n",
              "    [theme=dark] .colab-df-convert {\n",
              "      background-color: #3B4455;\n",
              "      fill: #D2E3FC;\n",
              "    }\n",
              "\n",
              "    [theme=dark] .colab-df-convert:hover {\n",
              "      background-color: #434B5C;\n",
              "      box-shadow: 0px 1px 3px 1px rgba(0, 0, 0, 0.15);\n",
              "      filter: drop-shadow(0px 1px 2px rgba(0, 0, 0, 0.3));\n",
              "      fill: #FFFFFF;\n",
              "    }\n",
              "  </style>\n",
              "\n",
              "      <script>\n",
              "        const buttonEl =\n",
              "          document.querySelector('#df-e2f2c838-24f9-497d-bac3-a2073e9483ba button.colab-df-convert');\n",
              "        buttonEl.style.display =\n",
              "          google.colab.kernel.accessAllowed ? 'block' : 'none';\n",
              "\n",
              "        async function convertToInteractive(key) {\n",
              "          const element = document.querySelector('#df-e2f2c838-24f9-497d-bac3-a2073e9483ba');\n",
              "          const dataTable =\n",
              "            await google.colab.kernel.invokeFunction('convertToInteractive',\n",
              "                                                     [key], {});\n",
              "          if (!dataTable) return;\n",
              "\n",
              "          const docLinkHtml = 'Like what you see? Visit the ' +\n",
              "            '<a target=\"_blank\" href=https://colab.research.google.com/notebooks/data_table.ipynb>data table notebook</a>'\n",
              "            + ' to learn more about interactive tables.';\n",
              "          element.innerHTML = '';\n",
              "          dataTable['output_type'] = 'display_data';\n",
              "          await google.colab.output.renderOutput(dataTable, element);\n",
              "          const docLink = document.createElement('div');\n",
              "          docLink.innerHTML = docLinkHtml;\n",
              "          element.appendChild(docLink);\n",
              "        }\n",
              "      </script>\n",
              "    </div>\n",
              "  </div>\n",
              "  "
            ]
          },
          "metadata": {},
          "execution_count": 15
        }
      ],
      "source": [
        "dr_df.head()"
      ]
    },
    {
      "cell_type": "code",
      "execution_count": 16,
      "metadata": {
        "id": "cY-iedwSlvo3"
      },
      "outputs": [],
      "source": [
        "def get_silhouette_score(df):\n",
        "  name = df.columns[len(df.columns)- 1]\n",
        "  if sum(df[name]) == 0 :\n",
        "    print(\"그룹이 한개만 존재합니다\")\n",
        "    return\n",
        "  df=df.dropna()\n",
        "  df_copy = df.copy()\n",
        "  print(name)\n",
        "  df_copy['silhouette_coeff'] = silhouette_samples(df,df[name])\n",
        "  print(\"그룹별 실루엣 점수\")\n",
        "  print(df_copy.groupby(name)['silhouette_coeff'].mean())\n",
        "  print(\"전체 실루엣 평균\")\n",
        "  print(df_copy.groupby(name)['silhouette_coeff'].mean().mean())\n",
        "  return df_copy"
      ]
    },
    {
      "cell_type": "code",
      "execution_count": 17,
      "metadata": {
        "id": "zfOOlgmxnUGZ"
      },
      "outputs": [],
      "source": [
        "def kmeans_mine(df,n):\n",
        "  kmeans = KMeans(n_clusters = n, init='k-means++', max_iter=3000,random_state=320)\n",
        "  kmeans.fit(df)\n",
        "  df_copy = df.copy()\n",
        "  df_copy['kmeans'] = pd.DataFrame(kmeans.labels_)\n",
        "  print(\"그룹별 데이터 수\")\n",
        "  print(df_copy.groupby('kmeans').size())\n",
        "  return df_copy"
      ]
    },
    {
      "cell_type": "code",
      "execution_count": 18,
      "metadata": {
        "id": "d7MQnDprobZP"
      },
      "outputs": [],
      "source": [
        "def ms_mine(df):\n",
        "  bw = estimate_bandwidth(df)\n",
        "  ms = MeanShift(bandwidth=bw)\n",
        "  ms_clust = ms.fit_predict(df)\n",
        "  df_copy = df.copy()\n",
        "  df_copy['ms'] = ms_clust\n",
        "  print(\"그룹별 데이터 수\")\n",
        "  print(df_copy.groupby('ms').size())\n",
        "  return df_copy"
      ]
    },
    {
      "cell_type": "code",
      "execution_count": 19,
      "metadata": {
        "id": "4o_oamVuxBCr"
      },
      "outputs": [],
      "source": [
        "def get_accuracy(trained_model,X_test,y_test):\n",
        "  a = trained_model.predict(X_test)\n",
        "  accuracy = accuracy_score(y_test,a)\n",
        "  print(accuracy)"
      ]
    },
    {
      "cell_type": "markdown",
      "metadata": {
        "id": "X3sbJ1IDqTNc"
      },
      "source": [
        "# 1.데이터 군집화 후 분류분석을 통한 중요변수 선택"
      ]
    },
    {
      "cell_type": "markdown",
      "metadata": {
        "id": "DPPq4-9Kqszp"
      },
      "source": [
        "### 1-1 kmeans"
      ]
    },
    {
      "cell_type": "code",
      "execution_count": 20,
      "metadata": {
        "colab": {
          "base_uri": "https://localhost:8080/"
        },
        "id": "yz-tCWJfqapX",
        "outputId": "bbf46b00-7db8-447c-f101-4f259771d2ec"
      },
      "outputs": [
        {
          "output_type": "stream",
          "name": "stdout",
          "text": [
            "그룹별 데이터 수\n",
            "kmeans\n",
            "0    511\n",
            "1    460\n",
            "dtype: int64\n",
            "kmeans\n",
            "그룹별 실루엣 점수\n",
            "kmeans\n",
            "0    0.564397\n",
            "1    0.540268\n",
            "Name: silhouette_coeff, dtype: float64\n",
            "전체 실루엣 평균\n",
            "0.5523324822933611\n",
            "그룹별 데이터 수\n",
            "kmeans\n",
            "0    317\n",
            "1    431\n",
            "2    223\n",
            "dtype: int64\n",
            "kmeans\n",
            "그룹별 실루엣 점수\n",
            "kmeans\n",
            "0    0.559895\n",
            "1    0.551070\n",
            "2    0.520564\n",
            "Name: silhouette_coeff, dtype: float64\n",
            "전체 실루엣 평균\n",
            "0.5438429254830405\n",
            "그룹별 데이터 수\n",
            "kmeans\n",
            "0    131\n",
            "1    328\n",
            "2    287\n",
            "3    225\n",
            "dtype: int64\n",
            "kmeans\n",
            "그룹별 실루엣 점수\n",
            "kmeans\n",
            "0    0.504705\n",
            "1    0.507662\n",
            "2    0.526626\n",
            "3    0.549090\n",
            "Name: silhouette_coeff, dtype: float64\n",
            "전체 실루엣 평균\n",
            "0.5220208665386686\n",
            "그룹별 데이터 수\n",
            "kmeans\n",
            "0    256\n",
            "1    205\n",
            "2     80\n",
            "3    135\n",
            "4    295\n",
            "dtype: int64\n",
            "kmeans\n",
            "그룹별 실루엣 점수\n",
            "kmeans\n",
            "0    0.498878\n",
            "1    0.530096\n",
            "2    0.496760\n",
            "3    0.542143\n",
            "4    0.543247\n",
            "Name: silhouette_coeff, dtype: float64\n",
            "전체 실루엣 평균\n",
            "0.5222249488300144\n",
            "그룹별 데이터 수\n",
            "kmeans\n",
            "0    108\n",
            "1    224\n",
            "2     70\n",
            "3    220\n",
            "4    158\n",
            "5    191\n",
            "dtype: int64\n",
            "kmeans\n",
            "그룹별 실루엣 점수\n",
            "kmeans\n",
            "0    0.494458\n",
            "1    0.508079\n",
            "2    0.462877\n",
            "3    0.525045\n",
            "4    0.540228\n",
            "5    0.546944\n",
            "Name: silhouette_coeff, dtype: float64\n",
            "전체 실루엣 평균\n",
            "0.5129384269736144\n",
            "그룹별 데이터 수\n",
            "kmeans\n",
            "0    163\n",
            "1    178\n",
            "2     36\n",
            "3    188\n",
            "4     75\n",
            "5    226\n",
            "6    105\n",
            "dtype: int64\n",
            "kmeans\n",
            "그룹별 실루엣 점수\n",
            "kmeans\n",
            "0    0.543768\n",
            "1    0.507577\n",
            "2    0.503138\n",
            "3    0.528902\n",
            "4    0.510336\n",
            "5    0.548390\n",
            "6    0.550750\n",
            "Name: silhouette_coeff, dtype: float64\n",
            "전체 실루엣 평균\n",
            "0.5275515922792618\n",
            "그룹별 데이터 수\n",
            "kmeans\n",
            "0    184\n",
            "1    149\n",
            "2    127\n",
            "3     32\n",
            "4    150\n",
            "5    181\n",
            "6     52\n",
            "7     96\n",
            "dtype: int64\n",
            "kmeans\n",
            "그룹별 실루엣 점수\n",
            "kmeans\n",
            "0    0.512693\n",
            "1    0.532226\n",
            "2    0.495956\n",
            "3    0.515678\n",
            "4    0.517012\n",
            "5    0.546233\n",
            "6    0.505148\n",
            "7    0.533851\n",
            "Name: silhouette_coeff, dtype: float64\n",
            "전체 실루엣 평균\n",
            "0.519849535402828\n",
            "그룹별 데이터 수\n",
            "kmeans\n",
            "0    117\n",
            "1    135\n",
            "2    170\n",
            "3     31\n",
            "4     30\n",
            "5     78\n",
            "6     96\n",
            "7    158\n",
            "8    156\n",
            "dtype: int64\n",
            "kmeans\n",
            "그룹별 실루엣 점수\n",
            "kmeans\n",
            "0    0.538684\n",
            "1    0.557473\n",
            "2    0.554915\n",
            "3    0.483668\n",
            "4    0.591456\n",
            "5    0.537649\n",
            "6    0.536004\n",
            "7    0.499527\n",
            "8    0.477745\n",
            "Name: silhouette_coeff, dtype: float64\n",
            "전체 실루엣 평균\n",
            "0.5307910871597408\n",
            "그룹별 데이터 수\n",
            "kmeans\n",
            "0    157\n",
            "1     82\n",
            "2     87\n",
            "3    148\n",
            "4     53\n",
            "5    125\n",
            "6    131\n",
            "7    146\n",
            "8     17\n",
            "9     25\n",
            "dtype: int64\n",
            "kmeans\n",
            "그룹별 실루엣 점수\n",
            "kmeans\n",
            "0    0.515390\n",
            "1    0.537126\n",
            "2    0.541108\n",
            "3    0.493691\n",
            "4    0.488486\n",
            "5    0.510702\n",
            "6    0.547795\n",
            "7    0.540541\n",
            "8    0.443767\n",
            "9    0.689212\n",
            "Name: silhouette_coeff, dtype: float64\n",
            "전체 실루엣 평균\n",
            "0.5307817385214911\n",
            "그룹별 데이터 수\n",
            "kmeans\n",
            "0     159\n",
            "1     107\n",
            "2      67\n",
            "3      30\n",
            "4     114\n",
            "5       8\n",
            "6     114\n",
            "7     150\n",
            "8      88\n",
            "9     104\n",
            "10     30\n",
            "dtype: int64\n",
            "kmeans\n",
            "그룹별 실루엣 점수\n",
            "kmeans\n",
            "0     0.510588\n",
            "1     0.590138\n",
            "2     0.544402\n",
            "3     0.573448\n",
            "4     0.540462\n",
            "5     0.377192\n",
            "6     0.538522\n",
            "7     0.483586\n",
            "8     0.511033\n",
            "9     0.482811\n",
            "10    0.550808\n",
            "Name: silhouette_coeff, dtype: float64\n",
            "전체 실루엣 평균\n",
            "0.5184538078082567\n",
            "그룹별 데이터 수\n",
            "kmeans\n",
            "0     110\n",
            "1     131\n",
            "2      62\n",
            "3      26\n",
            "4     102\n",
            "5      30\n",
            "6      87\n",
            "7      84\n",
            "8     104\n",
            "9     105\n",
            "10    129\n",
            "11      1\n",
            "dtype: int64\n",
            "kmeans\n",
            "그룹별 실루엣 점수\n",
            "kmeans\n",
            "0     0.549198\n",
            "1     0.517526\n",
            "2     0.524801\n",
            "3     0.654534\n",
            "4     0.610816\n",
            "5     0.533682\n",
            "6     0.489325\n",
            "7     0.520777\n",
            "8     0.527758\n",
            "9     0.536532\n",
            "10    0.546410\n",
            "11    0.000000\n",
            "Name: silhouette_coeff, dtype: float64\n",
            "전체 실루엣 평균\n",
            "0.5009467514939215\n",
            "그룹별 데이터 수\n",
            "kmeans\n",
            "0     127\n",
            "1      45\n",
            "2      84\n",
            "3      82\n",
            "4     104\n",
            "5      26\n",
            "6      90\n",
            "7      22\n",
            "8     110\n",
            "9     115\n",
            "10      1\n",
            "11    102\n",
            "12     63\n",
            "dtype: int64\n",
            "kmeans\n",
            "그룹별 실루엣 점수\n",
            "kmeans\n",
            "0     0.526900\n",
            "1     0.489596\n",
            "2     0.520777\n",
            "3     0.549597\n",
            "4     0.527758\n",
            "5     0.654534\n",
            "6     0.534087\n",
            "7     0.510773\n",
            "8     0.549197\n",
            "9     0.548614\n",
            "10    0.000000\n",
            "11    0.608607\n",
            "12    0.553994\n",
            "Name: silhouette_coeff, dtype: float64\n",
            "전체 실루엣 평균\n",
            "0.505725844330932\n",
            "그룹별 데이터 수\n",
            "kmeans\n",
            "0      93\n",
            "1      99\n",
            "2      41\n",
            "3      60\n",
            "4     122\n",
            "5      29\n",
            "6      22\n",
            "7      66\n",
            "8      94\n",
            "9     102\n",
            "10      1\n",
            "11    107\n",
            "12     49\n",
            "13     86\n",
            "dtype: int64\n",
            "kmeans\n",
            "그룹별 실루엣 점수\n",
            "kmeans\n",
            "0     0.508290\n",
            "1     0.524126\n",
            "2     0.613815\n",
            "3     0.591805\n",
            "4     0.523459\n",
            "5     0.450689\n",
            "6     0.721859\n",
            "7     0.523319\n",
            "8     0.569397\n",
            "9     0.595659\n",
            "10    0.000000\n",
            "11    0.571272\n",
            "12    0.533000\n",
            "13    0.550779\n",
            "Name: silhouette_coeff, dtype: float64\n",
            "전체 실루엣 평균\n",
            "0.519819231673357\n"
          ]
        }
      ],
      "source": [
        "for i in range(2,15):\n",
        "  tmp = kmeans_mine(dr_df,i)\n",
        "  tmp2 = get_silhouette_score(tmp)"
      ]
    },
    {
      "cell_type": "markdown",
      "metadata": {
        "id": "mMSBKEzvsTLK"
      },
      "source": [
        "n = 2 일 때 성능이 가장 좋으므로 2를 선택"
      ]
    },
    {
      "cell_type": "code",
      "execution_count": 21,
      "metadata": {
        "colab": {
          "base_uri": "https://localhost:8080/"
        },
        "id": "DI5VaxRbsYyi",
        "outputId": "02000836-5112-46a4-8744-4af2b4f1f351"
      },
      "outputs": [
        {
          "output_type": "stream",
          "name": "stdout",
          "text": [
            "그룹별 데이터 수\n",
            "kmeans\n",
            "0    511\n",
            "1    460\n",
            "dtype: int64\n",
            "kmeans\n",
            "그룹별 실루엣 점수\n",
            "kmeans\n",
            "0    0.564422\n",
            "1    0.540354\n",
            "Name: silhouette_coeff, dtype: float64\n",
            "전체 실루엣 평균\n",
            "0.5523882679766606\n"
          ]
        }
      ],
      "source": [
        "df_kmeans = kmeans_mine(remove_outlier_data,2)\n",
        "df_kmeans = get_silhouette_score(df_kmeans)"
      ]
    },
    {
      "cell_type": "markdown",
      "metadata": {
        "id": "QqYi3-3Jsfqj"
      },
      "source": [
        "###1-2 평균 이동군집"
      ]
    },
    {
      "cell_type": "code",
      "execution_count": 22,
      "metadata": {
        "id": "tF8CoQsHsm6V",
        "colab": {
          "base_uri": "https://localhost:8080/"
        },
        "outputId": "3afaf034-24f0-42b4-c47b-b8cb5818aeb4"
      },
      "outputs": [
        {
          "output_type": "stream",
          "name": "stdout",
          "text": [
            "그룹별 데이터 수\n",
            "ms\n",
            "0    951\n",
            "1     20\n",
            "dtype: int64\n",
            "ms\n",
            "그룹별 실루엣 점수\n",
            "ms\n",
            "0    0.514592\n",
            "1    0.838190\n",
            "Name: silhouette_coeff, dtype: float64\n",
            "전체 실루엣 평균\n",
            "0.6763908180274525\n"
          ]
        }
      ],
      "source": [
        "df_ms = ms_mine(dr_df)\n",
        "df_ms = get_silhouette_score(df_ms)"
      ]
    },
    {
      "cell_type": "code",
      "execution_count": 60,
      "metadata": {
        "id": "HkSDNbWU_8c0",
        "colab": {
          "base_uri": "https://localhost:8080/"
        },
        "outputId": "39670838-5328-441c-c05c-dd8d0a87dbbe"
      },
      "outputs": [
        {
          "output_type": "stream",
          "name": "stdout",
          "text": [
            "gmm\n",
            "그룹별 실루엣 점수\n",
            "gmm\n",
            "0    0.380190\n",
            "1    0.447589\n",
            "Name: silhouette_coeff, dtype: float64\n",
            "전체 실루엣 평균\n",
            "0.41388955723120424\n"
          ]
        }
      ],
      "source": [
        "#gmm 시도\n",
        "list = []\n",
        "gmm = GaussianMixture(n_components=2, random_state=320)\n",
        "gmm.fit(dr_df)\n",
        "gmm_cluster_labels = gmm.predict(dr_df)\n",
        "df_gmm=dr_df.copy()\n",
        "df_gmm['gmm']=gmm_cluster_labels\n",
        "df_gmm=get_silhouette_score(df_gmm)\n",
        "\n"
      ]
    },
    {
      "cell_type": "markdown",
      "metadata": {
        "id": "yXS2dmo0tO1i"
      },
      "source": [
        "평균 이동군집의 성능이 더 좋게 나왔으므로 평균 이동군집의 데이터를 최종 군집데이터로 선택"
      ]
    },
    {
      "cell_type": "code",
      "execution_count": 24,
      "metadata": {
        "id": "jwmYQh9atZsm"
      },
      "outputs": [],
      "source": [
        "fin_df = df_ms.drop('silhouette_coeff',axis=1)"
      ]
    },
    {
      "cell_type": "markdown",
      "metadata": {
        "id": "w36VTtB_tfXg"
      },
      "source": [
        "###1-3 데이터 나누기"
      ]
    },
    {
      "cell_type": "code",
      "execution_count": 25,
      "metadata": {
        "id": "zXaycTtmtwU5"
      },
      "outputs": [],
      "source": [
        "X = fin_df[fin_df.columns[0:6]]\n",
        "y = fin_df['ms']\n",
        "X_train, X_test, y_train, y_test = train_test_split(X,y, test_size=0.3, shuffle=True, random_state=320)"
      ]
    },
    {
      "cell_type": "markdown",
      "metadata": {
        "id": "aZmxRNXEt_3C"
      },
      "source": [
        "###1-4 데이터 리샘플링"
      ]
    },
    {
      "cell_type": "markdown",
      "metadata": {
        "id": "GOFrbGf1uE7z"
      },
      "source": [
        "데이터가 불균형이므로 SMOTE, ADASYN, SMOTE-TOMEK등의 방법으로 데이터 리샘플링"
      ]
    },
    {
      "cell_type": "code",
      "execution_count": 26,
      "metadata": {
        "id": "BBokvxCbuCug"
      },
      "outputs": [],
      "source": [
        "##SMOTE-TOMEK\n",
        "\n",
        "smotetomek = SMOTETomek(tomek=TomekLinks(sampling_strategy='majority'),random_state=320)\n",
        "X_smtomek, y_smtomek = smotetomek.fit_resample(X_train, y_train)"
      ]
    },
    {
      "cell_type": "code",
      "execution_count": 27,
      "metadata": {
        "id": "hScX6ekQMbyY",
        "colab": {
          "base_uri": "https://localhost:8080/"
        },
        "outputId": "f0c68d70-5744-4d1e-9f1c-c490ff1d85d8"
      },
      "outputs": [
        {
          "output_type": "execute_result",
          "data": {
            "text/plain": [
              "ms\n",
              "0    663\n",
              "1    663\n",
              "dtype: int64"
            ]
          },
          "metadata": {},
          "execution_count": 27
        }
      ],
      "source": [
        "data_for_see = pd.DataFrame(X_smtomek, y_smtomek)\n",
        "data_for_see.groupby('ms').size()"
      ]
    },
    {
      "cell_type": "markdown",
      "metadata": {
        "id": "MJtqAHxmu7T6"
      },
      "source": [
        "###1-5 분류분석"
      ]
    },
    {
      "cell_type": "markdown",
      "metadata": {
        "id": "q8nAf9Z1vIIC"
      },
      "source": [
        "앞서 구한 리샘플링 데이터를 여러 분류분석 모델에 대입하면서 가장 영향력이 큰 변수를 찾을것임 "
      ]
    },
    {
      "cell_type": "markdown",
      "metadata": {
        "id": "i4O4DwhFu97E"
      },
      "source": [
        "####1-5-1 의사결정 나무"
      ]
    },
    {
      "cell_type": "code",
      "execution_count": 28,
      "metadata": {
        "id": "-SpI32l8wKqm",
        "colab": {
          "base_uri": "https://localhost:8080/",
          "height": 280
        },
        "outputId": "3a414eaa-a15b-4e71-a78e-0decb0462a29"
      },
      "outputs": [
        {
          "output_type": "execute_result",
          "data": {
            "text/plain": [
              "<graphviz.files.Source at 0x7feb172d9fd0>"
            ],
            "image/svg+xml": "<?xml version=\"1.0\" encoding=\"UTF-8\" standalone=\"no\"?>\n<!DOCTYPE svg PUBLIC \"-//W3C//DTD SVG 1.1//EN\"\n \"http://www.w3.org/Graphics/SVG/1.1/DTD/svg11.dtd\">\n<!-- Generated by graphviz version 2.40.1 (20161225.0304)\n -->\n<!-- Title: Tree Pages: 1 -->\n<svg width=\"258pt\" height=\"195pt\"\n viewBox=\"0.00 0.00 258.00 195.00\" xmlns=\"http://www.w3.org/2000/svg\" xmlns:xlink=\"http://www.w3.org/1999/xlink\">\n<g id=\"graph0\" class=\"graph\" transform=\"scale(1 1) rotate(0) translate(4 191)\">\n<title>Tree</title>\n<polygon fill=\"#ffffff\" stroke=\"transparent\" points=\"-4,4 -4,-191 254,-191 254,4 -4,4\"/>\n<!-- 0 -->\n<g id=\"node1\" class=\"node\">\n<title>0</title>\n<polygon fill=\"#ffffff\" stroke=\"#000000\" points=\"196,-187 54,-187 54,-104 196,-104 196,-187\"/>\n<text text-anchor=\"middle\" x=\"125\" y=\"-171.8\" font-family=\"Helvetica,sans-Serif\" font-size=\"14.00\" fill=\"#000000\">Income &lt;= 60315.5</text>\n<text text-anchor=\"middle\" x=\"125\" y=\"-156.8\" font-family=\"Helvetica,sans-Serif\" font-size=\"14.00\" fill=\"#000000\">gini = 0.5</text>\n<text text-anchor=\"middle\" x=\"125\" y=\"-141.8\" font-family=\"Helvetica,sans-Serif\" font-size=\"14.00\" fill=\"#000000\">samples = 1326</text>\n<text text-anchor=\"middle\" x=\"125\" y=\"-126.8\" font-family=\"Helvetica,sans-Serif\" font-size=\"14.00\" fill=\"#000000\">value = [663, 663]</text>\n<text text-anchor=\"middle\" x=\"125\" y=\"-111.8\" font-family=\"Helvetica,sans-Serif\" font-size=\"14.00\" fill=\"#000000\">class = 0</text>\n</g>\n<!-- 1 -->\n<g id=\"node2\" class=\"node\">\n<title>1</title>\n<polygon fill=\"#e58139\" stroke=\"#000000\" points=\"116,-68 0,-68 0,0 116,0 116,-68\"/>\n<text text-anchor=\"middle\" x=\"58\" y=\"-52.8\" font-family=\"Helvetica,sans-Serif\" font-size=\"14.00\" fill=\"#000000\">gini = 0.0</text>\n<text text-anchor=\"middle\" x=\"58\" y=\"-37.8\" font-family=\"Helvetica,sans-Serif\" font-size=\"14.00\" fill=\"#000000\">samples = 663</text>\n<text text-anchor=\"middle\" x=\"58\" y=\"-22.8\" font-family=\"Helvetica,sans-Serif\" font-size=\"14.00\" fill=\"#000000\">value = [663, 0]</text>\n<text text-anchor=\"middle\" x=\"58\" y=\"-7.8\" font-family=\"Helvetica,sans-Serif\" font-size=\"14.00\" fill=\"#000000\">class = 0</text>\n</g>\n<!-- 0&#45;&gt;1 -->\n<g id=\"edge1\" class=\"edge\">\n<title>0&#45;&gt;1</title>\n<path fill=\"none\" stroke=\"#000000\" d=\"M100.0517,-103.9815C94.7499,-95.1585 89.1419,-85.8258 83.8089,-76.9506\"/>\n<polygon fill=\"#000000\" stroke=\"#000000\" points=\"86.7396,-75.0325 78.5889,-68.2637 80.7395,-78.638 86.7396,-75.0325\"/>\n<text text-anchor=\"middle\" x=\"72.5415\" y=\"-88.8212\" font-family=\"Helvetica,sans-Serif\" font-size=\"14.00\" fill=\"#000000\">True</text>\n</g>\n<!-- 2 -->\n<g id=\"node3\" class=\"node\">\n<title>2</title>\n<polygon fill=\"#399de5\" stroke=\"#000000\" points=\"250,-68 134,-68 134,0 250,0 250,-68\"/>\n<text text-anchor=\"middle\" x=\"192\" y=\"-52.8\" font-family=\"Helvetica,sans-Serif\" font-size=\"14.00\" fill=\"#000000\">gini = 0.0</text>\n<text text-anchor=\"middle\" x=\"192\" y=\"-37.8\" font-family=\"Helvetica,sans-Serif\" font-size=\"14.00\" fill=\"#000000\">samples = 663</text>\n<text text-anchor=\"middle\" x=\"192\" y=\"-22.8\" font-family=\"Helvetica,sans-Serif\" font-size=\"14.00\" fill=\"#000000\">value = [0, 663]</text>\n<text text-anchor=\"middle\" x=\"192\" y=\"-7.8\" font-family=\"Helvetica,sans-Serif\" font-size=\"14.00\" fill=\"#000000\">class = 1</text>\n</g>\n<!-- 0&#45;&gt;2 -->\n<g id=\"edge2\" class=\"edge\">\n<title>0&#45;&gt;2</title>\n<path fill=\"none\" stroke=\"#000000\" d=\"M149.9483,-103.9815C155.2501,-95.1585 160.8581,-85.8258 166.1911,-76.9506\"/>\n<polygon fill=\"#000000\" stroke=\"#000000\" points=\"169.2605,-78.638 171.4111,-68.2637 163.2604,-75.0325 169.2605,-78.638\"/>\n<text text-anchor=\"middle\" x=\"177.4585\" y=\"-88.8212\" font-family=\"Helvetica,sans-Serif\" font-size=\"14.00\" fill=\"#000000\">False</text>\n</g>\n</g>\n</svg>\n"
          },
          "metadata": {},
          "execution_count": 28
        }
      ],
      "source": [
        "##SMOTE-TOMEK\n",
        "smtomek_decision_tree = tree.DecisionTreeClassifier(random_state=320)\n",
        "smtomek_decision_tree = smtomek_decision_tree.fit(X_smtomek,y_smtomek)\n",
        "export_graphviz(smtomek_decision_tree, out_file=\"SMOTE_TOMEK_dtree.dot\", class_names=['0','1'], \\\n",
        "               feature_names = X_smtomek.columns, impurity=True, filled=True)\n",
        "               \n",
        "\n",
        "with open(\"SMOTE_TOMEK_dtree.dot\") as f:\n",
        "  dot_graph = f.read()\n",
        "graphviz.Source(dot_graph)"
      ]
    },
    {
      "cell_type": "markdown",
      "metadata": {
        "id": "ZZk1PnZnwNvL"
      },
      "source": [
        "오버 샘플링 기법과 관계없이 의사결정 나무의 경우 Income변수만으로 모든 데이터를 완벽하게 구분함\n",
        "이를 실제 테스트 데이터에 대해서도 적절한지 구해볼 필요가 있"
      ]
    },
    {
      "cell_type": "code",
      "execution_count": 29,
      "metadata": {
        "id": "KMhZDXbdwgt8",
        "colab": {
          "base_uri": "https://localhost:8080/"
        },
        "outputId": "c57a14f3-0cb9-4299-8e12-0509df908946"
      },
      "outputs": [
        {
          "output_type": "stream",
          "name": "stdout",
          "text": [
            "SMOTE-TOMEK 정확도\n",
            "1.0\n"
          ]
        }
      ],
      "source": [
        "##테스트 데이터에 정확도 평가\n",
        "print('SMOTE-TOMEK 정확도')\n",
        "get_accuracy(smtomek_decision_tree,X_test,y_test)"
      ]
    },
    {
      "cell_type": "markdown",
      "metadata": {
        "id": "2qnJFtI0yEjm"
      },
      "source": [
        "모든 샘플링 기법에 대해 의사결정나무의 정확도가 1을 나타냄. 즉 Income변수가 아주 중요한 변수로 작용함\n"
      ]
    },
    {
      "cell_type": "markdown",
      "metadata": {
        "id": "kR1IF_KDyUpT"
      },
      "source": [
        "####1-5-2 로지스틱 회귀분석 "
      ]
    },
    {
      "cell_type": "code",
      "execution_count": 30,
      "metadata": {
        "id": "AAWCwu8FyoIX"
      },
      "outputs": [],
      "source": [
        "#분석 전 정규화 처리\n",
        "#가장 성능이 좋다고 알려진 SMOTE-TOMEK이용해서 진행 \n",
        "scaler = StandardScaler()\n",
        "\n",
        "X_train_sc = scaler.fit_transform(X_smtomek)\n",
        "X_test_sc = scaler.transform(X_test)"
      ]
    },
    {
      "cell_type": "code",
      "execution_count": 31,
      "metadata": {
        "id": "zUxbW3_Dzuxu",
        "colab": {
          "base_uri": "https://localhost:8080/"
        },
        "outputId": "192e0d46-bfcb-46b3-8c6e-e9f10e382204"
      },
      "outputs": [
        {
          "output_type": "execute_result",
          "data": {
            "text/plain": [
              "LogisticRegression()"
            ]
          },
          "metadata": {},
          "execution_count": 31
        }
      ],
      "source": [
        "model = LogisticRegression()\n",
        "model.fit(X_train_sc, y_smtomek)"
      ]
    },
    {
      "cell_type": "code",
      "execution_count": 32,
      "metadata": {
        "id": "-QTlIXFb0MZk",
        "colab": {
          "base_uri": "https://localhost:8080/"
        },
        "outputId": "6e286cd8-6dd3-4d07-eede-7ac544d06fde"
      },
      "outputs": [
        {
          "output_type": "stream",
          "name": "stdout",
          "text": [
            "0.9897260273972602\n"
          ]
        }
      ],
      "source": [
        "print(model.score(X_test_sc,y_test))"
      ]
    },
    {
      "cell_type": "markdown",
      "metadata": {
        "id": "4kCdU5c71Olh"
      },
      "source": [
        "거의 100% 에 가까운 정확도를 보이고 있다.<br>\n",
        "이제 가장 중요한 변수를 탐색하면 다음과 같다."
      ]
    },
    {
      "cell_type": "code",
      "execution_count": 33,
      "metadata": {
        "id": "fLLW1oBv1bLO",
        "colab": {
          "base_uri": "https://localhost:8080/",
          "height": 238
        },
        "outputId": "412b8278-a70b-41c2-9b4a-ebbac878b2c5"
      },
      "outputs": [
        {
          "output_type": "execute_result",
          "data": {
            "text/plain": [
              "     feature      coef\n",
              "0     Income  7.669798\n",
              "3        Mnt  1.151814\n",
              "1    Recency  1.037868\n",
              "2        age -0.029577\n",
              "4  Purchases -0.215739\n",
              "5      Child -0.478963"
            ],
            "text/html": [
              "\n",
              "  <div id=\"df-138c517e-e328-4467-ac88-68f863af6714\">\n",
              "    <div class=\"colab-df-container\">\n",
              "      <div>\n",
              "<style scoped>\n",
              "    .dataframe tbody tr th:only-of-type {\n",
              "        vertical-align: middle;\n",
              "    }\n",
              "\n",
              "    .dataframe tbody tr th {\n",
              "        vertical-align: top;\n",
              "    }\n",
              "\n",
              "    .dataframe thead th {\n",
              "        text-align: right;\n",
              "    }\n",
              "</style>\n",
              "<table border=\"1\" class=\"dataframe\">\n",
              "  <thead>\n",
              "    <tr style=\"text-align: right;\">\n",
              "      <th></th>\n",
              "      <th>feature</th>\n",
              "      <th>coef</th>\n",
              "    </tr>\n",
              "  </thead>\n",
              "  <tbody>\n",
              "    <tr>\n",
              "      <th>0</th>\n",
              "      <td>Income</td>\n",
              "      <td>7.669798</td>\n",
              "    </tr>\n",
              "    <tr>\n",
              "      <th>3</th>\n",
              "      <td>Mnt</td>\n",
              "      <td>1.151814</td>\n",
              "    </tr>\n",
              "    <tr>\n",
              "      <th>1</th>\n",
              "      <td>Recency</td>\n",
              "      <td>1.037868</td>\n",
              "    </tr>\n",
              "    <tr>\n",
              "      <th>2</th>\n",
              "      <td>age</td>\n",
              "      <td>-0.029577</td>\n",
              "    </tr>\n",
              "    <tr>\n",
              "      <th>4</th>\n",
              "      <td>Purchases</td>\n",
              "      <td>-0.215739</td>\n",
              "    </tr>\n",
              "    <tr>\n",
              "      <th>5</th>\n",
              "      <td>Child</td>\n",
              "      <td>-0.478963</td>\n",
              "    </tr>\n",
              "  </tbody>\n",
              "</table>\n",
              "</div>\n",
              "      <button class=\"colab-df-convert\" onclick=\"convertToInteractive('df-138c517e-e328-4467-ac88-68f863af6714')\"\n",
              "              title=\"Convert this dataframe to an interactive table.\"\n",
              "              style=\"display:none;\">\n",
              "        \n",
              "  <svg xmlns=\"http://www.w3.org/2000/svg\" height=\"24px\"viewBox=\"0 0 24 24\"\n",
              "       width=\"24px\">\n",
              "    <path d=\"M0 0h24v24H0V0z\" fill=\"none\"/>\n",
              "    <path d=\"M18.56 5.44l.94 2.06.94-2.06 2.06-.94-2.06-.94-.94-2.06-.94 2.06-2.06.94zm-11 1L8.5 8.5l.94-2.06 2.06-.94-2.06-.94L8.5 2.5l-.94 2.06-2.06.94zm10 10l.94 2.06.94-2.06 2.06-.94-2.06-.94-.94-2.06-.94 2.06-2.06.94z\"/><path d=\"M17.41 7.96l-1.37-1.37c-.4-.4-.92-.59-1.43-.59-.52 0-1.04.2-1.43.59L10.3 9.45l-7.72 7.72c-.78.78-.78 2.05 0 2.83L4 21.41c.39.39.9.59 1.41.59.51 0 1.02-.2 1.41-.59l7.78-7.78 2.81-2.81c.8-.78.8-2.07 0-2.86zM5.41 20L4 18.59l7.72-7.72 1.47 1.35L5.41 20z\"/>\n",
              "  </svg>\n",
              "      </button>\n",
              "      \n",
              "  <style>\n",
              "    .colab-df-container {\n",
              "      display:flex;\n",
              "      flex-wrap:wrap;\n",
              "      gap: 12px;\n",
              "    }\n",
              "\n",
              "    .colab-df-convert {\n",
              "      background-color: #E8F0FE;\n",
              "      border: none;\n",
              "      border-radius: 50%;\n",
              "      cursor: pointer;\n",
              "      display: none;\n",
              "      fill: #1967D2;\n",
              "      height: 32px;\n",
              "      padding: 0 0 0 0;\n",
              "      width: 32px;\n",
              "    }\n",
              "\n",
              "    .colab-df-convert:hover {\n",
              "      background-color: #E2EBFA;\n",
              "      box-shadow: 0px 1px 2px rgba(60, 64, 67, 0.3), 0px 1px 3px 1px rgba(60, 64, 67, 0.15);\n",
              "      fill: #174EA6;\n",
              "    }\n",
              "\n",
              "    [theme=dark] .colab-df-convert {\n",
              "      background-color: #3B4455;\n",
              "      fill: #D2E3FC;\n",
              "    }\n",
              "\n",
              "    [theme=dark] .colab-df-convert:hover {\n",
              "      background-color: #434B5C;\n",
              "      box-shadow: 0px 1px 3px 1px rgba(0, 0, 0, 0.15);\n",
              "      filter: drop-shadow(0px 1px 2px rgba(0, 0, 0, 0.3));\n",
              "      fill: #FFFFFF;\n",
              "    }\n",
              "  </style>\n",
              "\n",
              "      <script>\n",
              "        const buttonEl =\n",
              "          document.querySelector('#df-138c517e-e328-4467-ac88-68f863af6714 button.colab-df-convert');\n",
              "        buttonEl.style.display =\n",
              "          google.colab.kernel.accessAllowed ? 'block' : 'none';\n",
              "\n",
              "        async function convertToInteractive(key) {\n",
              "          const element = document.querySelector('#df-138c517e-e328-4467-ac88-68f863af6714');\n",
              "          const dataTable =\n",
              "            await google.colab.kernel.invokeFunction('convertToInteractive',\n",
              "                                                     [key], {});\n",
              "          if (!dataTable) return;\n",
              "\n",
              "          const docLinkHtml = 'Like what you see? Visit the ' +\n",
              "            '<a target=\"_blank\" href=https://colab.research.google.com/notebooks/data_table.ipynb>data table notebook</a>'\n",
              "            + ' to learn more about interactive tables.';\n",
              "          element.innerHTML = '';\n",
              "          dataTable['output_type'] = 'display_data';\n",
              "          await google.colab.output.renderOutput(dataTable, element);\n",
              "          const docLink = document.createElement('div');\n",
              "          docLink.innerHTML = docLinkHtml;\n",
              "          element.appendChild(docLink);\n",
              "        }\n",
              "      </script>\n",
              "    </div>\n",
              "  </div>\n",
              "  "
            ]
          },
          "metadata": {},
          "execution_count": 33
        }
      ],
      "source": [
        "feature_importance_lr = pd.DataFrame(zip(X_train.columns.values, model.coef_.ravel()))\n",
        "feature_importance_lr.columns = ['feature', 'coef']\n",
        "feature_importance_lr.sort_values(\"coef\", ascending=False, inplace=True)\n",
        "feature_importance_lr"
      ]
    },
    {
      "cell_type": "markdown",
      "metadata": {
        "id": "JzbSGUxH4w_g"
      },
      "source": [
        "의사결정 나무에서 Income변수만을 사용한것과는 달리 모든 변수를 사용한것을 확인할 수 있다. <br>그럼에도 가장 중요한 변수로 Income이 선택된것을 확인할 수 있다. <br>그 밖에도 Mnt 변수도 어느정도 중요도를 가지고 있는것을 확인할 수 있다. "
      ]
    },
    {
      "cell_type": "markdown",
      "metadata": {
        "id": "FLAMxtCl5Umg"
      },
      "source": [
        "####1-5-3 XGBoost"
      ]
    },
    {
      "cell_type": "code",
      "execution_count": 34,
      "metadata": {
        "id": "xmjf0NM45O25",
        "colab": {
          "base_uri": "https://localhost:8080/"
        },
        "outputId": "ce626fe8-6f04-4cc7-ef1a-13de645ea7cc"
      },
      "outputs": [
        {
          "output_type": "execute_result",
          "data": {
            "text/plain": [
              "XGBClassifier(learning_rate=0.2, max_depth=4, n_estimators=500,\n",
              "              random_state=320)"
            ]
          },
          "metadata": {},
          "execution_count": 34
        }
      ],
      "source": [
        "from xgboost import XGBClassifier\n",
        "model = XGBClassifier(n_estimators=500, learning_rate=0.2, max_depth=4, random_state = 320)\n",
        "model.fit(X_smtomek,y_smtomek)"
      ]
    },
    {
      "cell_type": "code",
      "execution_count": 35,
      "metadata": {
        "id": "uXbi9EIi7MgH",
        "colab": {
          "base_uri": "https://localhost:8080/"
        },
        "outputId": "87f77a2e-9c31-4b0c-fe85-d59add1436aa"
      },
      "outputs": [
        {
          "output_type": "stream",
          "name": "stdout",
          "text": [
            "1.0\n"
          ]
        }
      ],
      "source": [
        "get_accuracy(model,X_test,y_test)"
      ]
    },
    {
      "cell_type": "markdown",
      "metadata": {
        "id": "U4VLxaXe76r0"
      },
      "source": [
        " 의사결정 나무와 마찬가지로 테스트 데이터에 대한 예측결과가 1로 전부 정확하게 분류한것을 확인할 수 있다. <br>이제 변수(특성)의 중요도를 알아보면 다음과 같다."
      ]
    },
    {
      "cell_type": "code",
      "execution_count": 36,
      "metadata": {
        "id": "LRPjxWQR8VMo",
        "colab": {
          "base_uri": "https://localhost:8080/",
          "height": 81
        },
        "outputId": "75e3404b-436b-47ec-9801-e1960883d75b"
      },
      "outputs": [
        {
          "output_type": "execute_result",
          "data": {
            "text/plain": [
              "                    Income  Recency  age  Mnt  Purchases  Child\n",
              "feature_importance     1.0      0.0  0.0  0.0        0.0    0.0"
            ],
            "text/html": [
              "\n",
              "  <div id=\"df-eb637cdb-581c-4aa1-89a0-05a5c0107637\">\n",
              "    <div class=\"colab-df-container\">\n",
              "      <div>\n",
              "<style scoped>\n",
              "    .dataframe tbody tr th:only-of-type {\n",
              "        vertical-align: middle;\n",
              "    }\n",
              "\n",
              "    .dataframe tbody tr th {\n",
              "        vertical-align: top;\n",
              "    }\n",
              "\n",
              "    .dataframe thead th {\n",
              "        text-align: right;\n",
              "    }\n",
              "</style>\n",
              "<table border=\"1\" class=\"dataframe\">\n",
              "  <thead>\n",
              "    <tr style=\"text-align: right;\">\n",
              "      <th></th>\n",
              "      <th>Income</th>\n",
              "      <th>Recency</th>\n",
              "      <th>age</th>\n",
              "      <th>Mnt</th>\n",
              "      <th>Purchases</th>\n",
              "      <th>Child</th>\n",
              "    </tr>\n",
              "  </thead>\n",
              "  <tbody>\n",
              "    <tr>\n",
              "      <th>feature_importance</th>\n",
              "      <td>1.0</td>\n",
              "      <td>0.0</td>\n",
              "      <td>0.0</td>\n",
              "      <td>0.0</td>\n",
              "      <td>0.0</td>\n",
              "      <td>0.0</td>\n",
              "    </tr>\n",
              "  </tbody>\n",
              "</table>\n",
              "</div>\n",
              "      <button class=\"colab-df-convert\" onclick=\"convertToInteractive('df-eb637cdb-581c-4aa1-89a0-05a5c0107637')\"\n",
              "              title=\"Convert this dataframe to an interactive table.\"\n",
              "              style=\"display:none;\">\n",
              "        \n",
              "  <svg xmlns=\"http://www.w3.org/2000/svg\" height=\"24px\"viewBox=\"0 0 24 24\"\n",
              "       width=\"24px\">\n",
              "    <path d=\"M0 0h24v24H0V0z\" fill=\"none\"/>\n",
              "    <path d=\"M18.56 5.44l.94 2.06.94-2.06 2.06-.94-2.06-.94-.94-2.06-.94 2.06-2.06.94zm-11 1L8.5 8.5l.94-2.06 2.06-.94-2.06-.94L8.5 2.5l-.94 2.06-2.06.94zm10 10l.94 2.06.94-2.06 2.06-.94-2.06-.94-.94-2.06-.94 2.06-2.06.94z\"/><path d=\"M17.41 7.96l-1.37-1.37c-.4-.4-.92-.59-1.43-.59-.52 0-1.04.2-1.43.59L10.3 9.45l-7.72 7.72c-.78.78-.78 2.05 0 2.83L4 21.41c.39.39.9.59 1.41.59.51 0 1.02-.2 1.41-.59l7.78-7.78 2.81-2.81c.8-.78.8-2.07 0-2.86zM5.41 20L4 18.59l7.72-7.72 1.47 1.35L5.41 20z\"/>\n",
              "  </svg>\n",
              "      </button>\n",
              "      \n",
              "  <style>\n",
              "    .colab-df-container {\n",
              "      display:flex;\n",
              "      flex-wrap:wrap;\n",
              "      gap: 12px;\n",
              "    }\n",
              "\n",
              "    .colab-df-convert {\n",
              "      background-color: #E8F0FE;\n",
              "      border: none;\n",
              "      border-radius: 50%;\n",
              "      cursor: pointer;\n",
              "      display: none;\n",
              "      fill: #1967D2;\n",
              "      height: 32px;\n",
              "      padding: 0 0 0 0;\n",
              "      width: 32px;\n",
              "    }\n",
              "\n",
              "    .colab-df-convert:hover {\n",
              "      background-color: #E2EBFA;\n",
              "      box-shadow: 0px 1px 2px rgba(60, 64, 67, 0.3), 0px 1px 3px 1px rgba(60, 64, 67, 0.15);\n",
              "      fill: #174EA6;\n",
              "    }\n",
              "\n",
              "    [theme=dark] .colab-df-convert {\n",
              "      background-color: #3B4455;\n",
              "      fill: #D2E3FC;\n",
              "    }\n",
              "\n",
              "    [theme=dark] .colab-df-convert:hover {\n",
              "      background-color: #434B5C;\n",
              "      box-shadow: 0px 1px 3px 1px rgba(0, 0, 0, 0.15);\n",
              "      filter: drop-shadow(0px 1px 2px rgba(0, 0, 0, 0.3));\n",
              "      fill: #FFFFFF;\n",
              "    }\n",
              "  </style>\n",
              "\n",
              "      <script>\n",
              "        const buttonEl =\n",
              "          document.querySelector('#df-eb637cdb-581c-4aa1-89a0-05a5c0107637 button.colab-df-convert');\n",
              "        buttonEl.style.display =\n",
              "          google.colab.kernel.accessAllowed ? 'block' : 'none';\n",
              "\n",
              "        async function convertToInteractive(key) {\n",
              "          const element = document.querySelector('#df-eb637cdb-581c-4aa1-89a0-05a5c0107637');\n",
              "          const dataTable =\n",
              "            await google.colab.kernel.invokeFunction('convertToInteractive',\n",
              "                                                     [key], {});\n",
              "          if (!dataTable) return;\n",
              "\n",
              "          const docLinkHtml = 'Like what you see? Visit the ' +\n",
              "            '<a target=\"_blank\" href=https://colab.research.google.com/notebooks/data_table.ipynb>data table notebook</a>'\n",
              "            + ' to learn more about interactive tables.';\n",
              "          element.innerHTML = '';\n",
              "          dataTable['output_type'] = 'display_data';\n",
              "          await google.colab.output.renderOutput(dataTable, element);\n",
              "          const docLink = document.createElement('div');\n",
              "          docLink.innerHTML = docLinkHtml;\n",
              "          element.appendChild(docLink);\n",
              "        }\n",
              "      </script>\n",
              "    </div>\n",
              "  </div>\n",
              "  "
            ]
          },
          "metadata": {},
          "execution_count": 36
        }
      ],
      "source": [
        "feature_importance = pd.DataFrame(model.feature_importances_.reshape((1, -1)), columns=X_train.columns, index=['feature_importance'])\n",
        "feature_importance"
      ]
    },
    {
      "cell_type": "markdown",
      "metadata": {
        "id": "SWczaWbU8ih1"
      },
      "source": [
        "의사결정 나무와 같은 결과를 나타내고 있는것이 확인이 가능하다."
      ]
    },
    {
      "cell_type": "markdown",
      "metadata": {
        "id": "TfuBHhLgelmN"
      },
      "source": [
        "  3개의 분류분석 결과를 확인해 보면 Income 변수가 가장 중요한것으로 판단 되었고 심지어 의사결정 나무와 XGBoost 모델은 Income변수 한가지만으로 분류를 완벽하게 하는 모습을 보였다. 로지스틱 회귀분석의 경우 모델의 특성(가정상)상 모든 변수를 사용하기 때문에 다른 변수의 중요도 까지 나타나게 되었고, 그 결과로 가장 중요한 변수는 Income이지만 Mnt관련 변수와 Recency변수가 어느정도 중요도를 갖는것을 파악할 수 있었다."
      ]
    },
    {
      "cell_type": "code",
      "execution_count": 37,
      "metadata": {
        "id": "HBpTuuWnk7jE",
        "colab": {
          "base_uri": "https://localhost:8080/"
        },
        "outputId": "267d04ab-09f2-4e2a-d981-bb6ccd5703de"
      },
      "outputs": [
        {
          "output_type": "stream",
          "name": "stdout",
          "text": [
            "0번 그룹 Income의 최대값 60199.0\n",
            "1번 그룹 Income의 최솟값 60432.0\n"
          ]
        }
      ],
      "source": [
        "print(\"0번 그룹 Income의 최대값\",df_ms[df_ms['ms']==0][\"Income\"].max())\n",
        "print(\"1번 그룹 Income의 최솟값\",df_ms[df_ms['ms']==1][\"Income\"].min())"
      ]
    },
    {
      "cell_type": "markdown",
      "metadata": {
        "id": "dqvT8O37ltXB"
      },
      "source": [
        "Income변수만으로 정확하게 두 그룹으로 나누어졌다. 고객의 관리에 있어 Income값의 기준을 60200~60400 정도로 산정하고 관리하는것이 합리적이라 판단된다."
      ]
    },
    {
      "cell_type": "code",
      "execution_count": 38,
      "metadata": {
        "id": "DQxShfPNr2DC",
        "colab": {
          "base_uri": "https://localhost:8080/",
          "height": 143
        },
        "outputId": "804e874e-00fb-4f2a-fe35-be6068d49495"
      },
      "outputs": [
        {
          "output_type": "execute_result",
          "data": {
            "text/plain": [
              "          Income    Recency        age         Mnt  Purchases     Child\n",
              "ms                                                                     \n",
              "0   33928.497371  48.797056  51.615142   88.388013   7.759201  1.266036\n",
              "1   65186.500000  57.950000  57.600000  268.100000  11.900000  1.400000"
            ],
            "text/html": [
              "\n",
              "  <div id=\"df-9c1231fc-f181-45dd-8c73-e42fa6e46928\">\n",
              "    <div class=\"colab-df-container\">\n",
              "      <div>\n",
              "<style scoped>\n",
              "    .dataframe tbody tr th:only-of-type {\n",
              "        vertical-align: middle;\n",
              "    }\n",
              "\n",
              "    .dataframe tbody tr th {\n",
              "        vertical-align: top;\n",
              "    }\n",
              "\n",
              "    .dataframe thead th {\n",
              "        text-align: right;\n",
              "    }\n",
              "</style>\n",
              "<table border=\"1\" class=\"dataframe\">\n",
              "  <thead>\n",
              "    <tr style=\"text-align: right;\">\n",
              "      <th></th>\n",
              "      <th>Income</th>\n",
              "      <th>Recency</th>\n",
              "      <th>age</th>\n",
              "      <th>Mnt</th>\n",
              "      <th>Purchases</th>\n",
              "      <th>Child</th>\n",
              "    </tr>\n",
              "    <tr>\n",
              "      <th>ms</th>\n",
              "      <th></th>\n",
              "      <th></th>\n",
              "      <th></th>\n",
              "      <th></th>\n",
              "      <th></th>\n",
              "      <th></th>\n",
              "    </tr>\n",
              "  </thead>\n",
              "  <tbody>\n",
              "    <tr>\n",
              "      <th>0</th>\n",
              "      <td>33928.497371</td>\n",
              "      <td>48.797056</td>\n",
              "      <td>51.615142</td>\n",
              "      <td>88.388013</td>\n",
              "      <td>7.759201</td>\n",
              "      <td>1.266036</td>\n",
              "    </tr>\n",
              "    <tr>\n",
              "      <th>1</th>\n",
              "      <td>65186.500000</td>\n",
              "      <td>57.950000</td>\n",
              "      <td>57.600000</td>\n",
              "      <td>268.100000</td>\n",
              "      <td>11.900000</td>\n",
              "      <td>1.400000</td>\n",
              "    </tr>\n",
              "  </tbody>\n",
              "</table>\n",
              "</div>\n",
              "      <button class=\"colab-df-convert\" onclick=\"convertToInteractive('df-9c1231fc-f181-45dd-8c73-e42fa6e46928')\"\n",
              "              title=\"Convert this dataframe to an interactive table.\"\n",
              "              style=\"display:none;\">\n",
              "        \n",
              "  <svg xmlns=\"http://www.w3.org/2000/svg\" height=\"24px\"viewBox=\"0 0 24 24\"\n",
              "       width=\"24px\">\n",
              "    <path d=\"M0 0h24v24H0V0z\" fill=\"none\"/>\n",
              "    <path d=\"M18.56 5.44l.94 2.06.94-2.06 2.06-.94-2.06-.94-.94-2.06-.94 2.06-2.06.94zm-11 1L8.5 8.5l.94-2.06 2.06-.94-2.06-.94L8.5 2.5l-.94 2.06-2.06.94zm10 10l.94 2.06.94-2.06 2.06-.94-2.06-.94-.94-2.06-.94 2.06-2.06.94z\"/><path d=\"M17.41 7.96l-1.37-1.37c-.4-.4-.92-.59-1.43-.59-.52 0-1.04.2-1.43.59L10.3 9.45l-7.72 7.72c-.78.78-.78 2.05 0 2.83L4 21.41c.39.39.9.59 1.41.59.51 0 1.02-.2 1.41-.59l7.78-7.78 2.81-2.81c.8-.78.8-2.07 0-2.86zM5.41 20L4 18.59l7.72-7.72 1.47 1.35L5.41 20z\"/>\n",
              "  </svg>\n",
              "      </button>\n",
              "      \n",
              "  <style>\n",
              "    .colab-df-container {\n",
              "      display:flex;\n",
              "      flex-wrap:wrap;\n",
              "      gap: 12px;\n",
              "    }\n",
              "\n",
              "    .colab-df-convert {\n",
              "      background-color: #E8F0FE;\n",
              "      border: none;\n",
              "      border-radius: 50%;\n",
              "      cursor: pointer;\n",
              "      display: none;\n",
              "      fill: #1967D2;\n",
              "      height: 32px;\n",
              "      padding: 0 0 0 0;\n",
              "      width: 32px;\n",
              "    }\n",
              "\n",
              "    .colab-df-convert:hover {\n",
              "      background-color: #E2EBFA;\n",
              "      box-shadow: 0px 1px 2px rgba(60, 64, 67, 0.3), 0px 1px 3px 1px rgba(60, 64, 67, 0.15);\n",
              "      fill: #174EA6;\n",
              "    }\n",
              "\n",
              "    [theme=dark] .colab-df-convert {\n",
              "      background-color: #3B4455;\n",
              "      fill: #D2E3FC;\n",
              "    }\n",
              "\n",
              "    [theme=dark] .colab-df-convert:hover {\n",
              "      background-color: #434B5C;\n",
              "      box-shadow: 0px 1px 3px 1px rgba(0, 0, 0, 0.15);\n",
              "      filter: drop-shadow(0px 1px 2px rgba(0, 0, 0, 0.3));\n",
              "      fill: #FFFFFF;\n",
              "    }\n",
              "  </style>\n",
              "\n",
              "      <script>\n",
              "        const buttonEl =\n",
              "          document.querySelector('#df-9c1231fc-f181-45dd-8c73-e42fa6e46928 button.colab-df-convert');\n",
              "        buttonEl.style.display =\n",
              "          google.colab.kernel.accessAllowed ? 'block' : 'none';\n",
              "\n",
              "        async function convertToInteractive(key) {\n",
              "          const element = document.querySelector('#df-9c1231fc-f181-45dd-8c73-e42fa6e46928');\n",
              "          const dataTable =\n",
              "            await google.colab.kernel.invokeFunction('convertToInteractive',\n",
              "                                                     [key], {});\n",
              "          if (!dataTable) return;\n",
              "\n",
              "          const docLinkHtml = 'Like what you see? Visit the ' +\n",
              "            '<a target=\"_blank\" href=https://colab.research.google.com/notebooks/data_table.ipynb>data table notebook</a>'\n",
              "            + ' to learn more about interactive tables.';\n",
              "          element.innerHTML = '';\n",
              "          dataTable['output_type'] = 'display_data';\n",
              "          await google.colab.output.renderOutput(dataTable, element);\n",
              "          const docLink = document.createElement('div');\n",
              "          docLink.innerHTML = docLinkHtml;\n",
              "          element.appendChild(docLink);\n",
              "        }\n",
              "      </script>\n",
              "    </div>\n",
              "  </div>\n",
              "  "
            ]
          },
          "metadata": {},
          "execution_count": 38
        }
      ],
      "source": [
        "fin_df.groupby(\"ms\").mean()"
      ]
    },
    {
      "cell_type": "markdown",
      "metadata": {
        "id": "3k8Hnmvml5j8"
      },
      "source": [
        "두 집단의 각 변수에 대한 평균값을 비교해 보면 확실히 앞서 차이가 났던 Income 변수와 로지스틱 회귀분석에서 중요하다고 판단 되었던 Mnt변수까지도 확실한 차이가 보인다.."
      ]
    },
    {
      "cell_type": "markdown",
      "metadata": {
        "id": "4jEyLBRkkXSK"
      },
      "source": [
        "###1-6 차원 축소 후 분석"
      ]
    },
    {
      "cell_type": "markdown",
      "metadata": {
        "id": "pSFzq93eOGKE"
      },
      "source": [
        "앞서 군집화를 통해 가장 중요하게 군집을 구분하는 변수가 Income 즉 소득에 관련된 변수임을 확인하였다. 이번에는 변수들 사이의 관계를 이용해 정보를 최대한 잃지 않으면서 데이터를 설명할 수 있는 pca기법을 활용하여 주성분을 구하고 이를 토대로 Income변수 뿐만 아니라 다른 변수들의 영향 또한 파악할 것이다.또한 fa(요인 분석) 기법을 활용하여 의미를 설명할 수 있는 요인도 탐색하여 CRM전략에 활용하도록 할것이다."
      ]
    },
    {
      "cell_type": "markdown",
      "metadata": {
        "id": "kzg7EAPTdjh1"
      },
      "source": [
        "####1-6-0 데이터 정리\n",
        "분석을 진행하기 앞서 데이터를 정제할것이다."
      ]
    },
    {
      "cell_type": "code",
      "execution_count": 39,
      "metadata": {
        "id": "OyP_kr4Jkm4B"
      },
      "outputs": [],
      "source": [
        "#데이터 표준화\n",
        "scaler = StandardScaler()\n",
        "df_scaled=scaler.fit_transform(dr_df)\n",
        "df_scaled= pd.DataFrame(df_scaled,columns= dr_df.columns)"
      ]
    },
    {
      "cell_type": "code",
      "execution_count": 40,
      "metadata": {
        "id": "rgao1QbgiTBQ",
        "colab": {
          "base_uri": "https://localhost:8080/",
          "height": 206
        },
        "outputId": "389d05fd-0686-4fc0-ba31-348f999a7aa7"
      },
      "outputs": [
        {
          "output_type": "execute_result",
          "data": {
            "text/plain": [
              "     Income   Recency       age       Mnt  Purchases     Child\n",
              "0  0.978935 -0.378713  1.575060 -0.771605  -0.576042  1.066018\n",
              "1 -0.659155 -0.792396 -1.162336 -0.463388   0.048566 -0.391874\n",
              "2 -0.093000 -0.585555 -1.253583  0.911735   0.673175 -0.391874\n",
              "3 -0.351047 -1.033712 -0.249871 -0.546370  -0.576042 -0.391874\n",
              "4 -2.251340  0.345233 -0.432364 -0.368552  -0.576042 -1.849766"
            ],
            "text/html": [
              "\n",
              "  <div id=\"df-217e0c40-eeea-47a8-8ff7-f5b4c1806a74\">\n",
              "    <div class=\"colab-df-container\">\n",
              "      <div>\n",
              "<style scoped>\n",
              "    .dataframe tbody tr th:only-of-type {\n",
              "        vertical-align: middle;\n",
              "    }\n",
              "\n",
              "    .dataframe tbody tr th {\n",
              "        vertical-align: top;\n",
              "    }\n",
              "\n",
              "    .dataframe thead th {\n",
              "        text-align: right;\n",
              "    }\n",
              "</style>\n",
              "<table border=\"1\" class=\"dataframe\">\n",
              "  <thead>\n",
              "    <tr style=\"text-align: right;\">\n",
              "      <th></th>\n",
              "      <th>Income</th>\n",
              "      <th>Recency</th>\n",
              "      <th>age</th>\n",
              "      <th>Mnt</th>\n",
              "      <th>Purchases</th>\n",
              "      <th>Child</th>\n",
              "    </tr>\n",
              "  </thead>\n",
              "  <tbody>\n",
              "    <tr>\n",
              "      <th>0</th>\n",
              "      <td>0.978935</td>\n",
              "      <td>-0.378713</td>\n",
              "      <td>1.575060</td>\n",
              "      <td>-0.771605</td>\n",
              "      <td>-0.576042</td>\n",
              "      <td>1.066018</td>\n",
              "    </tr>\n",
              "    <tr>\n",
              "      <th>1</th>\n",
              "      <td>-0.659155</td>\n",
              "      <td>-0.792396</td>\n",
              "      <td>-1.162336</td>\n",
              "      <td>-0.463388</td>\n",
              "      <td>0.048566</td>\n",
              "      <td>-0.391874</td>\n",
              "    </tr>\n",
              "    <tr>\n",
              "      <th>2</th>\n",
              "      <td>-0.093000</td>\n",
              "      <td>-0.585555</td>\n",
              "      <td>-1.253583</td>\n",
              "      <td>0.911735</td>\n",
              "      <td>0.673175</td>\n",
              "      <td>-0.391874</td>\n",
              "    </tr>\n",
              "    <tr>\n",
              "      <th>3</th>\n",
              "      <td>-0.351047</td>\n",
              "      <td>-1.033712</td>\n",
              "      <td>-0.249871</td>\n",
              "      <td>-0.546370</td>\n",
              "      <td>-0.576042</td>\n",
              "      <td>-0.391874</td>\n",
              "    </tr>\n",
              "    <tr>\n",
              "      <th>4</th>\n",
              "      <td>-2.251340</td>\n",
              "      <td>0.345233</td>\n",
              "      <td>-0.432364</td>\n",
              "      <td>-0.368552</td>\n",
              "      <td>-0.576042</td>\n",
              "      <td>-1.849766</td>\n",
              "    </tr>\n",
              "  </tbody>\n",
              "</table>\n",
              "</div>\n",
              "      <button class=\"colab-df-convert\" onclick=\"convertToInteractive('df-217e0c40-eeea-47a8-8ff7-f5b4c1806a74')\"\n",
              "              title=\"Convert this dataframe to an interactive table.\"\n",
              "              style=\"display:none;\">\n",
              "        \n",
              "  <svg xmlns=\"http://www.w3.org/2000/svg\" height=\"24px\"viewBox=\"0 0 24 24\"\n",
              "       width=\"24px\">\n",
              "    <path d=\"M0 0h24v24H0V0z\" fill=\"none\"/>\n",
              "    <path d=\"M18.56 5.44l.94 2.06.94-2.06 2.06-.94-2.06-.94-.94-2.06-.94 2.06-2.06.94zm-11 1L8.5 8.5l.94-2.06 2.06-.94-2.06-.94L8.5 2.5l-.94 2.06-2.06.94zm10 10l.94 2.06.94-2.06 2.06-.94-2.06-.94-.94-2.06-.94 2.06-2.06.94z\"/><path d=\"M17.41 7.96l-1.37-1.37c-.4-.4-.92-.59-1.43-.59-.52 0-1.04.2-1.43.59L10.3 9.45l-7.72 7.72c-.78.78-.78 2.05 0 2.83L4 21.41c.39.39.9.59 1.41.59.51 0 1.02-.2 1.41-.59l7.78-7.78 2.81-2.81c.8-.78.8-2.07 0-2.86zM5.41 20L4 18.59l7.72-7.72 1.47 1.35L5.41 20z\"/>\n",
              "  </svg>\n",
              "      </button>\n",
              "      \n",
              "  <style>\n",
              "    .colab-df-container {\n",
              "      display:flex;\n",
              "      flex-wrap:wrap;\n",
              "      gap: 12px;\n",
              "    }\n",
              "\n",
              "    .colab-df-convert {\n",
              "      background-color: #E8F0FE;\n",
              "      border: none;\n",
              "      border-radius: 50%;\n",
              "      cursor: pointer;\n",
              "      display: none;\n",
              "      fill: #1967D2;\n",
              "      height: 32px;\n",
              "      padding: 0 0 0 0;\n",
              "      width: 32px;\n",
              "    }\n",
              "\n",
              "    .colab-df-convert:hover {\n",
              "      background-color: #E2EBFA;\n",
              "      box-shadow: 0px 1px 2px rgba(60, 64, 67, 0.3), 0px 1px 3px 1px rgba(60, 64, 67, 0.15);\n",
              "      fill: #174EA6;\n",
              "    }\n",
              "\n",
              "    [theme=dark] .colab-df-convert {\n",
              "      background-color: #3B4455;\n",
              "      fill: #D2E3FC;\n",
              "    }\n",
              "\n",
              "    [theme=dark] .colab-df-convert:hover {\n",
              "      background-color: #434B5C;\n",
              "      box-shadow: 0px 1px 3px 1px rgba(0, 0, 0, 0.15);\n",
              "      filter: drop-shadow(0px 1px 2px rgba(0, 0, 0, 0.3));\n",
              "      fill: #FFFFFF;\n",
              "    }\n",
              "  </style>\n",
              "\n",
              "      <script>\n",
              "        const buttonEl =\n",
              "          document.querySelector('#df-217e0c40-eeea-47a8-8ff7-f5b4c1806a74 button.colab-df-convert');\n",
              "        buttonEl.style.display =\n",
              "          google.colab.kernel.accessAllowed ? 'block' : 'none';\n",
              "\n",
              "        async function convertToInteractive(key) {\n",
              "          const element = document.querySelector('#df-217e0c40-eeea-47a8-8ff7-f5b4c1806a74');\n",
              "          const dataTable =\n",
              "            await google.colab.kernel.invokeFunction('convertToInteractive',\n",
              "                                                     [key], {});\n",
              "          if (!dataTable) return;\n",
              "\n",
              "          const docLinkHtml = 'Like what you see? Visit the ' +\n",
              "            '<a target=\"_blank\" href=https://colab.research.google.com/notebooks/data_table.ipynb>data table notebook</a>'\n",
              "            + ' to learn more about interactive tables.';\n",
              "          element.innerHTML = '';\n",
              "          dataTable['output_type'] = 'display_data';\n",
              "          await google.colab.output.renderOutput(dataTable, element);\n",
              "          const docLink = document.createElement('div');\n",
              "          docLink.innerHTML = docLinkHtml;\n",
              "          element.appendChild(docLink);\n",
              "        }\n",
              "      </script>\n",
              "    </div>\n",
              "  </div>\n",
              "  "
            ]
          },
          "metadata": {},
          "execution_count": 40
        }
      ],
      "source": [
        "df_scaled.head()"
      ]
    },
    {
      "cell_type": "markdown",
      "metadata": {
        "id": "0RQco1GvkjvV"
      },
      "source": [
        "1-6-1 PCA"
      ]
    },
    {
      "cell_type": "code",
      "execution_count": 41,
      "metadata": {
        "id": "3SCOGPlUffSL",
        "colab": {
          "base_uri": "https://localhost:8080/"
        },
        "outputId": "1093a588-256b-4ffa-8260-53b544a64243"
      },
      "outputs": [
        {
          "output_type": "execute_result",
          "data": {
            "text/plain": [
              "array([0.38255797, 0.22451726, 0.16605879])"
            ]
          },
          "metadata": {},
          "execution_count": 41
        }
      ],
      "source": [
        "pca = PCA(n_components=3)\n",
        "pca_data = pca.fit_transform(df_scaled)\n",
        "pca_data = pd.DataFrame(data = pca_data,columns = ['PC1', 'PC2','PC3'])\n",
        "pca.explained_variance_ratio_"
      ]
    },
    {
      "cell_type": "code",
      "execution_count": 42,
      "metadata": {
        "id": "-_hoZCP2iFh3",
        "colab": {
          "base_uri": "https://localhost:8080/"
        },
        "outputId": "4220cb0d-a958-4dbb-d8fc-3a2d83997ca1"
      },
      "outputs": [
        {
          "output_type": "execute_result",
          "data": {
            "text/plain": [
              "0.773134025672029"
            ]
          },
          "metadata": {},
          "execution_count": 42
        }
      ],
      "source": [
        "sum(pca.explained_variance_ratio_)"
      ]
    },
    {
      "cell_type": "markdown",
      "metadata": {
        "id": "Kw1a7mozlwBc"
      },
      "source": [
        "3개의 주성분이 전체의 변동량을 약 77% 이상 설명하므로 3개의 주성분을 선택하여 데이터 분석을 실시 하도록 하겠다."
      ]
    },
    {
      "cell_type": "code",
      "execution_count": 43,
      "metadata": {
        "id": "IaB8gKVRPIQG",
        "colab": {
          "base_uri": "https://localhost:8080/",
          "height": 143
        },
        "outputId": "bfb18d50-3c24-44c4-e68b-d7593c62e492"
      },
      "outputs": [
        {
          "output_type": "execute_result",
          "data": {
            "text/plain": [
              "       Income   Recency       age       Mnt  Purchases     Child\n",
              "PC1  0.475375  0.065441  0.313009  0.568311   0.543563  0.230918\n",
              "PC2  0.250045  0.002141  0.507828  0.399215   0.359172  0.625466\n",
              "PC3  0.060393  0.994954  0.055459  0.039108   0.011554  0.040982"
            ],
            "text/html": [
              "\n",
              "  <div id=\"df-983a5c0c-c68a-4d18-afbf-5631ebc85451\">\n",
              "    <div class=\"colab-df-container\">\n",
              "      <div>\n",
              "<style scoped>\n",
              "    .dataframe tbody tr th:only-of-type {\n",
              "        vertical-align: middle;\n",
              "    }\n",
              "\n",
              "    .dataframe tbody tr th {\n",
              "        vertical-align: top;\n",
              "    }\n",
              "\n",
              "    .dataframe thead th {\n",
              "        text-align: right;\n",
              "    }\n",
              "</style>\n",
              "<table border=\"1\" class=\"dataframe\">\n",
              "  <thead>\n",
              "    <tr style=\"text-align: right;\">\n",
              "      <th></th>\n",
              "      <th>Income</th>\n",
              "      <th>Recency</th>\n",
              "      <th>age</th>\n",
              "      <th>Mnt</th>\n",
              "      <th>Purchases</th>\n",
              "      <th>Child</th>\n",
              "    </tr>\n",
              "  </thead>\n",
              "  <tbody>\n",
              "    <tr>\n",
              "      <th>PC1</th>\n",
              "      <td>0.475375</td>\n",
              "      <td>0.065441</td>\n",
              "      <td>0.313009</td>\n",
              "      <td>0.568311</td>\n",
              "      <td>0.543563</td>\n",
              "      <td>0.230918</td>\n",
              "    </tr>\n",
              "    <tr>\n",
              "      <th>PC2</th>\n",
              "      <td>0.250045</td>\n",
              "      <td>0.002141</td>\n",
              "      <td>0.507828</td>\n",
              "      <td>0.399215</td>\n",
              "      <td>0.359172</td>\n",
              "      <td>0.625466</td>\n",
              "    </tr>\n",
              "    <tr>\n",
              "      <th>PC3</th>\n",
              "      <td>0.060393</td>\n",
              "      <td>0.994954</td>\n",
              "      <td>0.055459</td>\n",
              "      <td>0.039108</td>\n",
              "      <td>0.011554</td>\n",
              "      <td>0.040982</td>\n",
              "    </tr>\n",
              "  </tbody>\n",
              "</table>\n",
              "</div>\n",
              "      <button class=\"colab-df-convert\" onclick=\"convertToInteractive('df-983a5c0c-c68a-4d18-afbf-5631ebc85451')\"\n",
              "              title=\"Convert this dataframe to an interactive table.\"\n",
              "              style=\"display:none;\">\n",
              "        \n",
              "  <svg xmlns=\"http://www.w3.org/2000/svg\" height=\"24px\"viewBox=\"0 0 24 24\"\n",
              "       width=\"24px\">\n",
              "    <path d=\"M0 0h24v24H0V0z\" fill=\"none\"/>\n",
              "    <path d=\"M18.56 5.44l.94 2.06.94-2.06 2.06-.94-2.06-.94-.94-2.06-.94 2.06-2.06.94zm-11 1L8.5 8.5l.94-2.06 2.06-.94-2.06-.94L8.5 2.5l-.94 2.06-2.06.94zm10 10l.94 2.06.94-2.06 2.06-.94-2.06-.94-.94-2.06-.94 2.06-2.06.94z\"/><path d=\"M17.41 7.96l-1.37-1.37c-.4-.4-.92-.59-1.43-.59-.52 0-1.04.2-1.43.59L10.3 9.45l-7.72 7.72c-.78.78-.78 2.05 0 2.83L4 21.41c.39.39.9.59 1.41.59.51 0 1.02-.2 1.41-.59l7.78-7.78 2.81-2.81c.8-.78.8-2.07 0-2.86zM5.41 20L4 18.59l7.72-7.72 1.47 1.35L5.41 20z\"/>\n",
              "  </svg>\n",
              "      </button>\n",
              "      \n",
              "  <style>\n",
              "    .colab-df-container {\n",
              "      display:flex;\n",
              "      flex-wrap:wrap;\n",
              "      gap: 12px;\n",
              "    }\n",
              "\n",
              "    .colab-df-convert {\n",
              "      background-color: #E8F0FE;\n",
              "      border: none;\n",
              "      border-radius: 50%;\n",
              "      cursor: pointer;\n",
              "      display: none;\n",
              "      fill: #1967D2;\n",
              "      height: 32px;\n",
              "      padding: 0 0 0 0;\n",
              "      width: 32px;\n",
              "    }\n",
              "\n",
              "    .colab-df-convert:hover {\n",
              "      background-color: #E2EBFA;\n",
              "      box-shadow: 0px 1px 2px rgba(60, 64, 67, 0.3), 0px 1px 3px 1px rgba(60, 64, 67, 0.15);\n",
              "      fill: #174EA6;\n",
              "    }\n",
              "\n",
              "    [theme=dark] .colab-df-convert {\n",
              "      background-color: #3B4455;\n",
              "      fill: #D2E3FC;\n",
              "    }\n",
              "\n",
              "    [theme=dark] .colab-df-convert:hover {\n",
              "      background-color: #434B5C;\n",
              "      box-shadow: 0px 1px 3px 1px rgba(0, 0, 0, 0.15);\n",
              "      filter: drop-shadow(0px 1px 2px rgba(0, 0, 0, 0.3));\n",
              "      fill: #FFFFFF;\n",
              "    }\n",
              "  </style>\n",
              "\n",
              "      <script>\n",
              "        const buttonEl =\n",
              "          document.querySelector('#df-983a5c0c-c68a-4d18-afbf-5631ebc85451 button.colab-df-convert');\n",
              "        buttonEl.style.display =\n",
              "          google.colab.kernel.accessAllowed ? 'block' : 'none';\n",
              "\n",
              "        async function convertToInteractive(key) {\n",
              "          const element = document.querySelector('#df-983a5c0c-c68a-4d18-afbf-5631ebc85451');\n",
              "          const dataTable =\n",
              "            await google.colab.kernel.invokeFunction('convertToInteractive',\n",
              "                                                     [key], {});\n",
              "          if (!dataTable) return;\n",
              "\n",
              "          const docLinkHtml = 'Like what you see? Visit the ' +\n",
              "            '<a target=\"_blank\" href=https://colab.research.google.com/notebooks/data_table.ipynb>data table notebook</a>'\n",
              "            + ' to learn more about interactive tables.';\n",
              "          element.innerHTML = '';\n",
              "          dataTable['output_type'] = 'display_data';\n",
              "          await google.colab.output.renderOutput(dataTable, element);\n",
              "          const docLink = document.createElement('div');\n",
              "          docLink.innerHTML = docLinkHtml;\n",
              "          element.appendChild(docLink);\n",
              "        }\n",
              "      </script>\n",
              "    </div>\n",
              "  </div>\n",
              "  "
            ]
          },
          "metadata": {},
          "execution_count": 43
        }
      ],
      "source": [
        "importance_pca=pd.DataFrame(abs(pca.components_),columns = dr_df.columns,index=['PC1','PC2','PC3'])\n",
        "importance_pca"
      ]
    },
    {
      "cell_type": "markdown",
      "metadata": {
        "id": "8OblBYWQrsF-"
      },
      "source": [
        "####1-6-2 FA(요인분석)"
      ]
    },
    {
      "cell_type": "code",
      "execution_count": 44,
      "metadata": {
        "id": "43TDb2GKzb4k",
        "colab": {
          "base_uri": "https://localhost:8080/"
        },
        "outputId": "9f21ee17-7e8b-4aaf-fc05-1a672f02421e"
      },
      "outputs": [
        {
          "output_type": "execute_result",
          "data": {
            "text/plain": [
              "0.41495639779550386"
            ]
          },
          "metadata": {},
          "execution_count": 44
        }
      ],
      "source": [
        "##사용안함!!\n",
        "kmo_all,kmo_model=calculate_kmo(df_scaled)\n",
        "\n",
        "kmo_model"
      ]
    },
    {
      "cell_type": "code",
      "execution_count": 45,
      "metadata": {
        "id": "WxA4WevHzLki",
        "colab": {
          "base_uri": "https://localhost:8080/"
        },
        "outputId": "4088e044-1685-432f-e75f-55d8d7fd316c"
      },
      "outputs": [
        {
          "output_type": "execute_result",
          "data": {
            "text/plain": [
              "(2207.652691518609, 0.0)"
            ]
          },
          "metadata": {},
          "execution_count": 45
        }
      ],
      "source": [
        "chi_square_value,p_value=calculate_bartlett_sphericity(df_scaled)\n",
        "\n",
        "chi_square_value, p_value"
      ]
    },
    {
      "cell_type": "markdown",
      "metadata": {
        "id": "4wQnI5oS003w"
      },
      "source": [
        "바틀렛 검정의 p-value가 매우 작으므로 FA 진행이 가능하다."
      ]
    },
    {
      "cell_type": "code",
      "execution_count": 46,
      "metadata": {
        "id": "IKz4Na9e1Epb",
        "colab": {
          "base_uri": "https://localhost:8080/"
        },
        "outputId": "6431ff3c-cf2f-42e3-b082-6952a95ec761"
      },
      "outputs": [
        {
          "output_type": "execute_result",
          "data": {
            "text/plain": [
              "array([2.29534783, 1.34710355, 0.99635277, 0.68021296, 0.59982123,\n",
              "       0.08116166])"
            ]
          },
          "metadata": {},
          "execution_count": 46
        }
      ],
      "source": [
        "fa = FactorAnalyzer(n_factors=25,rotation=\"varimax\" )\n",
        "fa.fit(df_scaled)\n",
        "#고윳값 체크 \n",
        "ev, v = fa.get_eigenvalues()\n",
        "ev"
      ]
    },
    {
      "cell_type": "markdown",
      "metadata": {
        "id": "mVo2ptje2EwV"
      },
      "source": [
        "고유값을 통해 2개를 이용해 요인분석을 하는것이 적절한 것으로 판단된다."
      ]
    },
    {
      "cell_type": "code",
      "execution_count": 47,
      "metadata": {
        "id": "XJZuVCo41Jh-",
        "colab": {
          "base_uri": "https://localhost:8080/",
          "height": 238
        },
        "outputId": "d6009cba-53ab-4a3d-d281-13792a716ce8"
      },
      "outputs": [
        {
          "output_type": "execute_result",
          "data": {
            "text/plain": [
              "                  0         1         2\n",
              "Income     0.210924  0.961847  0.159410\n",
              "Recency    0.054361  0.011377  0.034759\n",
              "age        0.099194  0.297260  0.275928\n",
              "Mnt        0.903975  0.315481 -0.115014\n",
              "Purchases  0.935828  0.083261  0.089804\n",
              "Child      0.018444  0.173835  0.966609"
            ],
            "text/html": [
              "\n",
              "  <div id=\"df-1037b371-5ba7-49b1-ab23-5e644c22d92f\">\n",
              "    <div class=\"colab-df-container\">\n",
              "      <div>\n",
              "<style scoped>\n",
              "    .dataframe tbody tr th:only-of-type {\n",
              "        vertical-align: middle;\n",
              "    }\n",
              "\n",
              "    .dataframe tbody tr th {\n",
              "        vertical-align: top;\n",
              "    }\n",
              "\n",
              "    .dataframe thead th {\n",
              "        text-align: right;\n",
              "    }\n",
              "</style>\n",
              "<table border=\"1\" class=\"dataframe\">\n",
              "  <thead>\n",
              "    <tr style=\"text-align: right;\">\n",
              "      <th></th>\n",
              "      <th>0</th>\n",
              "      <th>1</th>\n",
              "      <th>2</th>\n",
              "    </tr>\n",
              "  </thead>\n",
              "  <tbody>\n",
              "    <tr>\n",
              "      <th>Income</th>\n",
              "      <td>0.210924</td>\n",
              "      <td>0.961847</td>\n",
              "      <td>0.159410</td>\n",
              "    </tr>\n",
              "    <tr>\n",
              "      <th>Recency</th>\n",
              "      <td>0.054361</td>\n",
              "      <td>0.011377</td>\n",
              "      <td>0.034759</td>\n",
              "    </tr>\n",
              "    <tr>\n",
              "      <th>age</th>\n",
              "      <td>0.099194</td>\n",
              "      <td>0.297260</td>\n",
              "      <td>0.275928</td>\n",
              "    </tr>\n",
              "    <tr>\n",
              "      <th>Mnt</th>\n",
              "      <td>0.903975</td>\n",
              "      <td>0.315481</td>\n",
              "      <td>-0.115014</td>\n",
              "    </tr>\n",
              "    <tr>\n",
              "      <th>Purchases</th>\n",
              "      <td>0.935828</td>\n",
              "      <td>0.083261</td>\n",
              "      <td>0.089804</td>\n",
              "    </tr>\n",
              "    <tr>\n",
              "      <th>Child</th>\n",
              "      <td>0.018444</td>\n",
              "      <td>0.173835</td>\n",
              "      <td>0.966609</td>\n",
              "    </tr>\n",
              "  </tbody>\n",
              "</table>\n",
              "</div>\n",
              "      <button class=\"colab-df-convert\" onclick=\"convertToInteractive('df-1037b371-5ba7-49b1-ab23-5e644c22d92f')\"\n",
              "              title=\"Convert this dataframe to an interactive table.\"\n",
              "              style=\"display:none;\">\n",
              "        \n",
              "  <svg xmlns=\"http://www.w3.org/2000/svg\" height=\"24px\"viewBox=\"0 0 24 24\"\n",
              "       width=\"24px\">\n",
              "    <path d=\"M0 0h24v24H0V0z\" fill=\"none\"/>\n",
              "    <path d=\"M18.56 5.44l.94 2.06.94-2.06 2.06-.94-2.06-.94-.94-2.06-.94 2.06-2.06.94zm-11 1L8.5 8.5l.94-2.06 2.06-.94-2.06-.94L8.5 2.5l-.94 2.06-2.06.94zm10 10l.94 2.06.94-2.06 2.06-.94-2.06-.94-.94-2.06-.94 2.06-2.06.94z\"/><path d=\"M17.41 7.96l-1.37-1.37c-.4-.4-.92-.59-1.43-.59-.52 0-1.04.2-1.43.59L10.3 9.45l-7.72 7.72c-.78.78-.78 2.05 0 2.83L4 21.41c.39.39.9.59 1.41.59.51 0 1.02-.2 1.41-.59l7.78-7.78 2.81-2.81c.8-.78.8-2.07 0-2.86zM5.41 20L4 18.59l7.72-7.72 1.47 1.35L5.41 20z\"/>\n",
              "  </svg>\n",
              "      </button>\n",
              "      \n",
              "  <style>\n",
              "    .colab-df-container {\n",
              "      display:flex;\n",
              "      flex-wrap:wrap;\n",
              "      gap: 12px;\n",
              "    }\n",
              "\n",
              "    .colab-df-convert {\n",
              "      background-color: #E8F0FE;\n",
              "      border: none;\n",
              "      border-radius: 50%;\n",
              "      cursor: pointer;\n",
              "      display: none;\n",
              "      fill: #1967D2;\n",
              "      height: 32px;\n",
              "      padding: 0 0 0 0;\n",
              "      width: 32px;\n",
              "    }\n",
              "\n",
              "    .colab-df-convert:hover {\n",
              "      background-color: #E2EBFA;\n",
              "      box-shadow: 0px 1px 2px rgba(60, 64, 67, 0.3), 0px 1px 3px 1px rgba(60, 64, 67, 0.15);\n",
              "      fill: #174EA6;\n",
              "    }\n",
              "\n",
              "    [theme=dark] .colab-df-convert {\n",
              "      background-color: #3B4455;\n",
              "      fill: #D2E3FC;\n",
              "    }\n",
              "\n",
              "    [theme=dark] .colab-df-convert:hover {\n",
              "      background-color: #434B5C;\n",
              "      box-shadow: 0px 1px 3px 1px rgba(0, 0, 0, 0.15);\n",
              "      filter: drop-shadow(0px 1px 2px rgba(0, 0, 0, 0.3));\n",
              "      fill: #FFFFFF;\n",
              "    }\n",
              "  </style>\n",
              "\n",
              "      <script>\n",
              "        const buttonEl =\n",
              "          document.querySelector('#df-1037b371-5ba7-49b1-ab23-5e644c22d92f button.colab-df-convert');\n",
              "        buttonEl.style.display =\n",
              "          google.colab.kernel.accessAllowed ? 'block' : 'none';\n",
              "\n",
              "        async function convertToInteractive(key) {\n",
              "          const element = document.querySelector('#df-1037b371-5ba7-49b1-ab23-5e644c22d92f');\n",
              "          const dataTable =\n",
              "            await google.colab.kernel.invokeFunction('convertToInteractive',\n",
              "                                                     [key], {});\n",
              "          if (!dataTable) return;\n",
              "\n",
              "          const docLinkHtml = 'Like what you see? Visit the ' +\n",
              "            '<a target=\"_blank\" href=https://colab.research.google.com/notebooks/data_table.ipynb>data table notebook</a>'\n",
              "            + ' to learn more about interactive tables.';\n",
              "          element.innerHTML = '';\n",
              "          dataTable['output_type'] = 'display_data';\n",
              "          await google.colab.output.renderOutput(dataTable, element);\n",
              "          const docLink = document.createElement('div');\n",
              "          docLink.innerHTML = docLinkHtml;\n",
              "          element.appendChild(docLink);\n",
              "        }\n",
              "      </script>\n",
              "    </div>\n",
              "  </div>\n",
              "  "
            ]
          },
          "metadata": {},
          "execution_count": 47
        }
      ],
      "source": [
        "fa = FactorAnalyzer(n_factors=3, rotation='varimax') #ml : 최대우도 방법\n",
        "fa.fit(df_scaled)\n",
        "efa_result= pd.DataFrame(fa.loadings_, index=dr_df.columns)\n",
        "efa_result"
      ]
    },
    {
      "cell_type": "code",
      "execution_count": 48,
      "metadata": {
        "id": "QSrfETMe1avM",
        "colab": {
          "base_uri": "https://localhost:8080/",
          "height": 610
        },
        "outputId": "3f7f748a-d656-4a88-c757-db44c757404f"
      },
      "outputs": [
        {
          "output_type": "execute_result",
          "data": {
            "text/plain": [
              "<matplotlib.axes._subplots.AxesSubplot at 0x7feb0e45ef10>"
            ]
          },
          "metadata": {},
          "execution_count": 48
        },
        {
          "output_type": "display_data",
          "data": {
            "text/plain": [
              "<Figure size 432x720 with 2 Axes>"
            ],
            "image/png": "[encoded data removed]"
          },
          "metadata": {
            "needs_background": "light"
          }
        }
      ],
      "source": [
        "plt.figure(figsize=(6,10))\n",
        "sns.heatmap(efa_result, cmap=\"Blues\", annot=True, fmt='.2f')"
      ]
    },
    {
      "cell_type": "markdown",
      "metadata": {
        "id": "UOQiYbYs2BDL"
      },
      "source": [
        "fa 분석결과를 보면 첫번째 요인의 경우 Mnt변수들과 Purchases변수들이 묶여 요인을 거의 설명하는것을 볼 수 있다. 즉, 앞서 PCA와 비슷한 결과라고 판단할 수 있다. 두번째 요인의 경우 십대 자녀의 수와 나이 그리고 소득이 묶여서 대부분을 차지하고 있는것을확인할 수 있다. 이 또한 PCA의 결과와 유사하다."
      ]
    }
  ],
  "metadata": {
    "colab": {
      "collapsed_sections": [],
      "provenance": []
    },
    "kernelspec": {
      "display_name": "Python 3",
      "name": "python3"
    },
    "language_info": {
      "name": "python"
    }
  },
  "nbformat": 4,
  "nbformat_minor": 0
}